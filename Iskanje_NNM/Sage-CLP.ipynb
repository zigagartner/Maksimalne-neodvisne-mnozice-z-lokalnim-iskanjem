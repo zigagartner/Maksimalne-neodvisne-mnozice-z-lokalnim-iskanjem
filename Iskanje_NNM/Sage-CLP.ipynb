{
 "cells": [
  {
   "cell_type": "code",
   "execution_count": null,
   "id": "ef77ff03",
   "metadata": {},
   "outputs": [],
   "source": [
    "G = graphs.CubeGraph(6)\n",
    "G.show()\n",
    "G.vertices()"
   ]
  },
  {
   "cell_type": "code",
   "execution_count": null,
   "id": "032e3a59",
   "metadata": {},
   "outputs": [],
   "source": [
    "p = MixedIntegerLinearProgram(maximization=True)\n",
    "x = p.new_variable(binary=True)\n",
    "p.set_objective(sum(x[v] for v in G))\n",
    "\n",
    "for u, v in G.edges(labels=False):\n",
    "    p.add_constraint(x[u] + x[v] <= 1)\n",
    "    \n",
    "p.solve()\n",
    "x = p.get_values(x)\n",
    "CLP_najvecja_neodvisna_mnozica = [v for v, i in x.items() if i]\n",
    "print(CLP_najvecja_neodvisna_mnozica)"
   ]
  },
  {
   "cell_type": "code",
   "execution_count": null,
   "id": "3abed7d0",
   "metadata": {},
   "outputs": [],
   "source": [
    "def CLP(G):\n",
    "    p = MixedIntegerLinearProgram(maximization=True)\n",
    "    x = p.new_variable(binary=True)\n",
    "    p.set_objective(sum(x[v] for v in G))\n",
    "\n",
    "    for u, v in G.edges(labels=False):\n",
    "        p.add_constraint(x[u] + x[v] <= 1)\n",
    "    \n",
    "    p.solve()\n",
    "    x = p.get_values(x)\n",
    "    return [v for v, i in x.items() if i]\n",
    "\n",
    "print(CLP(G))"
   ]
  },
  {
   "cell_type": "code",
   "execution_count": null,
   "id": "ae40c3cd",
   "metadata": {},
   "outputs": [],
   "source": [
    "pl = G.graphplot(vertex_colors={\"#FF0000\":list(v for v in CLP_najvecja_neodvisna_mnozica)})\n",
    "pl.show()"
   ]
  },
  {
   "cell_type": "code",
   "execution_count": null,
   "id": "744c801a",
   "metadata": {},
   "outputs": [],
   "source": []
  }
 ],
 "metadata": {
  "kernelspec": {
   "display_name": "SageMath 9.4",
   "language": "sage",
   "name": "python399jvsc74a57bd029651730e15ca2b0c296fa8ae608f5fbdce5f624ecfb3c0cf9dc49d4d9ceba4d"
  },
  "language_info": {
   "codemirror_mode": {
    "name": "ipython",
    "version": 3
   },
   "file_extension": ".py",
   "mimetype": "text/x-python",
   "name": "python",
   "nbconvert_exporter": "python",
   "pygments_lexer": "ipython3",
   "version": "3.9.9"
  }
 },
 "nbformat": 4,
 "nbformat_minor": 5
}
