{
 "cells": [
  {
   "cell_type": "code",
   "execution_count": null,
   "source": [
    "G = graphs.CubeGraph(6)\n",
    "G.show()\n",
    "G.vertices()"
   ],
   "outputs": [],
   "metadata": {}
  },
  {
   "cell_type": "code",
   "execution_count": null,
   "source": [
    "p = MixedIntegerLinearProgram(maximization=True)\n",
    "x = p.new_variable(binary=True)\n",
    "p.set_objective(sum(x[v] for v in G))\n",
    "\n",
    "for u, v in G.edges(labels=False):\n",
    "    p.add_constraint(x[u] + x[v] <= 1)\n",
    "    \n",
    "p.solve()\n",
    "x = p.get_values(x)\n",
    "CLP_najvecja_neodvisna_mnozica = [v for v, i in x.items() if i]\n",
    "print(CLP_najvecja_neodvisna_mnozica)"
   ],
   "outputs": [],
   "metadata": {}
  },
  {
   "cell_type": "code",
   "execution_count": null,
   "source": [
    "def CLP(G):\n",
    "    p = MixedIntegerLinearProgram(maximization=True)\n",
    "    x = p.new_variable(binary=True)\n",
    "    p.set_objective(sum(x[v] for v in G))\n",
    "\n",
    "    for u, v in G.edges(labels=False):\n",
    "        p.add_constraint(x[u] + x[v] <= 1)\n",
    "    \n",
    "    p.solve()\n",
    "    x = p.get_values(x)\n",
    "    return [v for v, i in x.items() if i]\n",
    "\n",
    "print(CLP(G))"
   ],
   "outputs": [],
   "metadata": {}
  },
  {
   "cell_type": "code",
   "execution_count": null,
   "source": [
    "pl = G.graphplot(vertex_colors={\"#FF0000\":list(v for v in CLP_najvecja_neodvisna_mnozica)})\n",
    "pl.show()"
   ],
   "outputs": [],
   "metadata": {}
  },
  {
   "cell_type": "code",
   "execution_count": null,
   "source": [],
   "outputs": [],
   "metadata": {}
  }
 ],
 "metadata": {
  "kernelspec": {
   "display_name": "SageMath 9.4",
   "language": "sage",
   "name": "python399jvsc74a57bd029651730e15ca2b0c296fa8ae608f5fbdce5f624ecfb3c0cf9dc49d4d9ceba4d"
  },
  "language_info": {
   "name": "python",
   "version": "3.9.9",
   "mimetype": "text/x-python",
   "codemirror_mode": {
    "name": "ipython",
    "version": 3
   },
   "pygments_lexer": "ipython3",
   "nbconvert_exporter": "python",
   "file_extension": ".py"
  }
 },
 "nbformat": 4,
 "nbformat_minor": 5
}