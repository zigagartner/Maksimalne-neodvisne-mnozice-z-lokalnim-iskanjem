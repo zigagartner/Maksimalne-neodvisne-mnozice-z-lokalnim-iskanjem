{
 "cells": [
  {
   "cell_type": "code",
   "execution_count": 34,
   "id": "cbabea37",
   "metadata": {},
   "outputs": [],
   "source": [
    "import networkx as nx \n",
    "import numpy as np\n",
    "import json\n",
    "import pandas as pd\n",
    "from sage.graphs.graph_input import from_dict_of_lists\n",
    "from time import time"
   ]
  },
  {
   "cell_type": "code",
   "execution_count": 35,
   "id": "bf3e1e81",
   "metadata": {},
   "outputs": [],
   "source": [
    "def nakljucni_MIS(G, P):\n",
    "    I = []            #Nastajajoca neodvisna mnozica\n",
    "    V = list(G.nodes)\n",
    "    for i in V:        # V tej mnozici izberemo vozlisca, ki jih dodamo neodvisni mnozici. P je permutacija naravnih stevil do vkljucno len(V). Vozlisce dodamo I, ce ima najmanjso vrednost med sosedi.,tako tudi preprecimo ponavljanje vozlisc v mnozici.\n",
    "        A = []      \n",
    "        A.append(P[i])\n",
    "        if list(G.neighbors(i)) != []:\n",
    "            for j in list(G.neighbors(i)):\n",
    "                A.append(P[j])\n",
    "        if P[i] == min(A):\n",
    "            I.append(i)\n",
    "    N = [] \n",
    "    for i in I:\n",
    "        N += G.neighbors(i)\n",
    "    V1 = I + N\n",
    "    V1 = list(dict.fromkeys(V1)) # V1 je mnozica, ki jo bomo odstranili iz grafa in je sestavljena iz vozlisc iz I, ter njihovih sosedov\n",
    "    if I == []:\n",
    "        return []\n",
    "    else:\n",
    "        G1 = G.copy()\n",
    "        G1.remove_nodes_from(V1)\n",
    "        return list(I + nakljucni_MIS(G1, P))"
   ]
  },
  {
   "cell_type": "code",
   "execution_count": 36,
   "id": "df7379cd",
   "metadata": {},
   "outputs": [],
   "source": [
    "def tightness(graf, mnozica, v): #Dolocimo \"tightness\" vozlisca v, v mnozici X, tj. za vsakega soseda vozlisca v, v mnozici graf\\X, tightness(v) povecamo za 1\n",
    "    t = 0\n",
    "    for w in graf.neighbors(v):\n",
    "        if w in mnozica:\n",
    "            t += 1\n",
    "        else:\n",
    "            pass\n",
    "    return t\n",
    "\n",
    "def lokalno_iskanje(G, I): #Parametra graf v networkx formatu, neodvisna množica I (gre za Python list)\n",
    "    V = list(G.nodes)\n",
    "    for v in I:\n",
    "        L = [] #Gradimo mnozice potencialnih kandidatov za dodajanje v neodvisno mnozico\n",
    "        for w in G.neighbors(v):\n",
    "            if G.neighbors(v) != []:\n",
    "                if tightness(G, I, w) == 1:\n",
    "                    L.append(w)\n",
    "                else:\n",
    "                    pass\n",
    "            else:\n",
    "                pass\n",
    "        if len(L) >= 2:\n",
    "            for v1 in L:\n",
    "                for w1 in L:\n",
    "                    if w1 not in G.neighbors(v1):\n",
    "                        I.remove(v)\n",
    "                        I_lokalno = I + [v1, w1]\n",
    "                        return lokalno_iskanje(G, I_lokalno)\n",
    "                    else:\n",
    "                        pass\n",
    "            else:\n",
    "                return I\n",
    "        else:\n",
    "            return I "
   ]
  },
  {
   "cell_type": "code",
   "execution_count": 37,
   "id": "c2d8f34c",
   "metadata": {},
   "outputs": [],
   "source": [
    "def CLP(G):\n",
    "    p = MixedIntegerLinearProgram(maximization=True)\n",
    "    x = p.new_variable(binary=True)\n",
    "    p.set_objective(sum(x[v] for v in G))\n",
    "\n",
    "    for u, v in G.edges(labels=False):\n",
    "        p.add_constraint(x[u] + x[v] <= 1)\n",
    "    \n",
    "    p.solve()\n",
    "    x = p.get_values(x)\n",
    "    return [v for v, i in x.items() if i]"
   ]
  },
  {
   "cell_type": "code",
   "execution_count": 38,
   "id": "97819635",
   "metadata": {},
   "outputs": [],
   "source": [
    "def zapisi_v_json(datoteka,A):\n",
    "    with open(datoteka +'.json','w') as js:\n",
    "        js.write(\n",
    "            '[' +\n",
    "            ',\\n'.join(json.dumps(i) for i in A) +\n",
    "            ']\\n')\n",
    "\n",
    "# Dano verjetnost in n\n",
    "def erdos_renyi(n,p,m):\n",
    "    A = []\n",
    "    for i in range(m):\n",
    "        G = nx.erdos_renyi_graph(n,p)\n",
    "        G_slovar = nx.to_dict_of_lists(G)\n",
    "        A += [G_slovar]\n",
    "\n",
    "    return A\n",
    "\n",
    "\n",
    "# Razlicne n\n",
    "\n",
    "def erdos_renyi_N(N, p):\n",
    "    A = []\n",
    "    for i in N:\n",
    "        G = nx.erdos_renyi_graph(i,p)\n",
    "        G_slovar = nx.to_dict_of_lists(G)\n",
    "        A += [G_slovar]\n",
    "\n",
    "    return A\n",
    "\n",
    "\n",
    "#Razlicne p\n",
    "\n",
    "def erdos_renyi_P(n, P):\n",
    "    A = []\n",
    "    for i in P:\n",
    "        G = nx.erdos_renyi_graph(n,i)\n",
    "        G_slovar = nx.to_dict_of_lists(G)\n",
    "        A += [G_slovar]\n",
    "    return A\n"
   ]
  },
  {
   "cell_type": "markdown",
   "id": "dba559c5",
   "metadata": {},
   "source": [
    "# Ista vozlišča in verjetnost, večkrat\n"
   ]
  },
  {
   "cell_type": "code",
   "execution_count": 39,
   "id": "6b561d96",
   "metadata": {},
   "outputs": [],
   "source": [
    "A = erdos_renyi(50, 0.3, 500)"
   ]
  },
  {
   "cell_type": "code",
   "execution_count": 40,
   "id": "0ae9ed92",
   "metadata": {},
   "outputs": [],
   "source": [
    "np1000_nakljucno = []\n",
    "casi_np1000_nakljucno = []\n",
    "resitve = []\n",
    "for i in A:\n",
    "    time1 = time()\n",
    "    nak = nakljucni_MIS(nx.Graph(i), list(np.random.permutation(len(nx.Graph(i).nodes))))\n",
    "    time2 = time()\n",
    "    np1000_nakljucno.append(len(nak))\n",
    "    casi_np1000_nakljucno.append(time2 - time1)\n",
    "    resitve.append(nak)"
   ]
  },
  {
   "cell_type": "code",
   "execution_count": 41,
   "id": "d298d144",
   "metadata": {},
   "outputs": [],
   "source": [
    "np1000_CLP = []\n",
    "casi_np1000_CLP = []\n",
    "for i in A:\n",
    "    X = Graph()\n",
    "    from_dict_of_lists(X, i)\n",
    "    time1 = time()\n",
    "    rez = CLP(X)\n",
    "    time2 = time()\n",
    "    np1000_CLP.append(len(rez))\n",
    "    casi_np1000_CLP.append(time2 - time1)"
   ]
  },
  {
   "cell_type": "code",
   "execution_count": 42,
   "id": "93a883d4",
   "metadata": {},
   "outputs": [],
   "source": [
    "np1000_lokalno = []\n",
    "casi_np1000_lokalno = []\n",
    "for i in range(len(A)):\n",
    "    time1 = time()\n",
    "    rez = lokalno_iskanje(nx.Graph(A[i]), resitve[i])\n",
    "    time2 = time()\n",
    "    np1000_lokalno.append(len(rez))\n",
    "    casi_np1000_lokalno.append(time2 - time1)"
   ]
  },
  {
   "cell_type": "code",
   "execution_count": 43,
   "id": "c40b0bef",
   "metadata": {},
   "outputs": [],
   "source": [
    "data_np1000 = {\"Nakljucno\":np1000_nakljucno, \"Casi nakljucno\": casi_np1000_nakljucno,\n",
    "           \"CLP\": np1000_CLP, \"Casi CLP\": casi_np1000_CLP ,\n",
    "            \"Lokalno iskanje\": np1000_lokalno, \"Casi lokalno\": casi_np1000_lokalno}\n",
    "data_np1000 = pd.DataFrame(data_np1000)\n",
    "\n"
   ]
  },
  {
   "cell_type": "code",
   "execution_count": 44,
   "id": "2dfc9c73",
   "metadata": {},
   "outputs": [],
   "source": [
    "\n",
    "X = []\n",
    "for i in range(len(np1000_lokalno)):\n",
    "    X.append(np1000_CLP[i] - np1000_lokalno[i])\n",
    "\n",
    "slovar_pojavitev = {}\n",
    "for i in range(max(X)):\n",
    "    slovar_pojavitev[i]=X.count(i)\n",
    "kljuc = slovar_pojavitev.keys()\n",
    "vrednost=slovar_pojavitev.values()"
   ]
  },
  {
   "cell_type": "code",
   "execution_count": 45,
   "id": "fb3eb374",
   "metadata": {},
   "outputs": [],
   "source": [
    "data_np1000_razlike = {\n",
    "    \"razlika\":list(kljuc),\n",
    "    \"pojavitev\":list(vrednost)\n",
    "    }\n",
    "\n",
    "data_np1000_razlike = pd.DataFrame(data_np1000_razlike)\n"
   ]
  },
  {
   "cell_type": "markdown",
   "id": "e97f1bff",
   "metadata": {},
   "source": [
    "# Različna vozlišča, ista verjetnost"
   ]
  },
  {
   "cell_type": "code",
   "execution_count": 46,
   "id": "62e52ed8",
   "metadata": {},
   "outputs": [],
   "source": [
    "N = list(range(1, 601, 8))\n",
    "B = erdos_renyi_N(N, 0.005)"
   ]
  },
  {
   "cell_type": "code",
   "execution_count": 47,
   "id": "443c5869",
   "metadata": {},
   "outputs": [],
   "source": [
    "Np_nakljucno = []\n",
    "casi_Np_nakljucno = []\n",
    "resitve = []\n",
    "for i in B:\n",
    "    time1 = time()\n",
    "    nak = nakljucni_MIS(nx.Graph(i), list(np.random.permutation(len(nx.Graph(i).nodes))))\n",
    "    time2 = time()\n",
    "    Np_nakljucno.append(len(nak))\n",
    "    casi_Np_nakljucno.append(time2 - time1)\n",
    "    resitve.append(nak)"
   ]
  },
  {
   "cell_type": "code",
   "execution_count": 48,
   "id": "987b5e5c",
   "metadata": {},
   "outputs": [],
   "source": [
    "Np_CLP = []\n",
    "casi_Np_CLP = []\n",
    "for i in B:\n",
    "    X = Graph()\n",
    "    from_dict_of_lists(X, i)\n",
    "    time1 = time()\n",
    "    rez = CLP(X)\n",
    "    time2 = time()\n",
    "    Np_CLP.append(len(rez))\n",
    "    casi_Np_CLP.append(time2 - time1)"
   ]
  },
  {
   "cell_type": "code",
   "execution_count": 49,
   "id": "1127f267",
   "metadata": {},
   "outputs": [],
   "source": [
    "Np_lokalno = []\n",
    "casi_Np_lokalno = []\n",
    "for i in range(len(B)):\n",
    "    time1 = time()\n",
    "    rez = lokalno_iskanje(nx.Graph(B[i]), resitve[i])\n",
    "    time2 = time()\n",
    "    Np_lokalno.append(len(rez))\n",
    "    casi_Np_lokalno.append(time2 - time1)"
   ]
  },
  {
   "cell_type": "code",
   "execution_count": 50,
   "id": "7fd01591",
   "metadata": {},
   "outputs": [],
   "source": [
    "data_Np = {\"Stevilo vozlisc\":N ,\"Nakljucno\":Np_nakljucno, \"Casi nakljucno\": casi_Np_nakljucno,\n",
    "           \"CLP\": Np_CLP, \"Casi CLP\": casi_Np_CLP ,\n",
    "            \"Lokalno iskanje\": Np_lokalno, \"Casi lokalno\": casi_Np_lokalno}\n",
    "data_Np = pd.DataFrame(data_Np)"
   ]
  },
  {
   "cell_type": "markdown",
   "id": "f868ce97",
   "metadata": {},
   "source": [
    "# Ista vozlišča, različna verjetnost"
   ]
  },
  {
   "cell_type": "code",
   "execution_count": 51,
   "id": "7c8fa194",
   "metadata": {},
   "outputs": [],
   "source": [
    "P = list(np.linspace(0.1, 0.8, 80))\n",
    "C = erdos_renyi_P(25, P)"
   ]
  },
  {
   "cell_type": "code",
   "execution_count": 52,
   "id": "f444dd11",
   "metadata": {},
   "outputs": [],
   "source": [
    "nP_nakljucno = []\n",
    "casi_nP_nakljucno = []\n",
    "resitve = []\n",
    "for i in C:\n",
    "    time1 = time()\n",
    "    nak = nakljucni_MIS(nx.Graph(i), list(np.random.permutation(len(nx.Graph(i).nodes))))\n",
    "    time2 = time()\n",
    "    nP_nakljucno.append(len(nak))\n",
    "    casi_nP_nakljucno.append(time2 - time1)\n",
    "    resitve.append(nak)"
   ]
  },
  {
   "cell_type": "code",
   "execution_count": 53,
   "id": "c0cd850c",
   "metadata": {},
   "outputs": [],
   "source": [
    "nP_CLP = []\n",
    "casi_nP_CLP = []\n",
    "for i in C:\n",
    "    X = Graph()\n",
    "    from_dict_of_lists(X, i)\n",
    "    time1 = time()\n",
    "    rez = CLP(X)\n",
    "    time2 = time()\n",
    "    nP_CLP.append(len(rez))\n",
    "    casi_nP_CLP.append(time2 - time1)"
   ]
  },
  {
   "cell_type": "code",
   "execution_count": 54,
   "id": "689ba571",
   "metadata": {},
   "outputs": [],
   "source": [
    "nP_lokalno = []\n",
    "casi_nP_lokalno = []\n",
    "for i in range(len(C)):\n",
    "    time1 = time()\n",
    "    rez = lokalno_iskanje(nx.Graph(C[i]), resitve[i])\n",
    "    time2 = time()\n",
    "    nP_lokalno.append(len(rez))\n",
    "    casi_nP_lokalno.append(time2 - time1)"
   ]
  },
  {
   "cell_type": "code",
   "execution_count": 55,
   "id": "b2f8b508",
   "metadata": {},
   "outputs": [],
   "source": [
    "data_nP = {\"Verjetnost\":P,\"Nakljucno\":nP_nakljucno, \"Casi nakljucno\": casi_nP_nakljucno,\n",
    "           \"CLP\": nP_CLP, \"Casi CLP\": casi_nP_CLP ,\n",
    "            \"Lokalno iskanje\": nP_lokalno, \"Casi lokalno\": casi_nP_lokalno}\n",
    "data_nP = pd.DataFrame(data_nP)\n",
    "\n",
    "\n"
   ]
  },
  {
   "cell_type": "code",
   "execution_count": 56,
   "id": "5bd9a18a",
   "metadata": {},
   "outputs": [],
   "source": [
    "zapisi_v_json(\"JSON_datoteke/grafi_ver\",C)\n",
    "data_nP.to_csv('R_koda/grafi_ver.csv')"
   ]
  },
  {
   "cell_type": "code",
   "execution_count": 57,
   "id": "cf4b6e04",
   "metadata": {},
   "outputs": [],
   "source": [
    "zapisi_v_json(\"JSON_datoteke/grafi1000\", A)\n",
    "data_np1000.to_csv('R_koda/grafi1000.csv')"
   ]
  },
  {
   "cell_type": "code",
   "execution_count": 58,
   "id": "fa593226",
   "metadata": {},
   "outputs": [],
   "source": [
    "zapisi_v_json(\"JSON_datoteke/grafi_voz\",B)\n",
    "data_Np.to_csv('R_koda/grafi_voz.csv')"
   ]
  },
  {
   "cell_type": "code",
   "execution_count": 59,
   "id": "96f6618b",
   "metadata": {},
   "outputs": [],
   "source": [
    "data_np1000_razlike.to_csv('R_koda/graf_razlik.csv')"
   ]
  }
 ],
 "metadata": {
  "kernelspec": {
   "display_name": "SageMath 9.4",
   "language": "sage",
   "name": "python399jvsc74a57bd00bb33ca9676efce3ca0e4e499ca98afa8af74a1912873c00ab519ed1bd3c864e"
  },
  "language_info": {
   "codemirror_mode": {
    "name": "ipython",
    "version": 3
   },
   "file_extension": ".py",
   "mimetype": "text/x-python",
   "name": "python",
   "nbconvert_exporter": "python",
   "pygments_lexer": "ipython3",
   "version": "3.9.9"
  }
 },
 "nbformat": 4,
 "nbformat_minor": 5
}
