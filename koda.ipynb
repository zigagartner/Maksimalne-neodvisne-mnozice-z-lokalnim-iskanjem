{
 "cells": [
  {
   "cell_type": "code",
   "execution_count": 67,
   "id": "dac11afc",
   "metadata": {},
   "outputs": [],
   "source": [
    "import networkx as nx \n",
    "import numpy as np\n",
    "import json\n",
    "import pandas as pd\n",
    "from sage.graphs.graph_input import from_dict_of_lists\n",
    "from time import time\n",
    "import sys"
   ]
  },
  {
   "cell_type": "code",
   "execution_count": 68,
   "id": "b9c384b3",
   "metadata": {},
   "outputs": [],
   "source": [
    "sys.setrecursionlimit(10000)"
   ]
  },
  {
   "cell_type": "code",
   "execution_count": 69,
   "id": "90cc708e",
   "metadata": {},
   "outputs": [],
   "source": [
    "def nakljucni_MIS(G, P):\n",
    "    I = []            #Nastajajoca neodvisna mnozica\n",
    "    V = list(G.nodes)\n",
    "    for i in V:        # V tej mnozici izberemo vozlisca, ki jih dodamo neodvisni mnozici. P je permutacija naravnih stevil do vkljucno len(V). Vozlisce dodamo I, ce ima najmanjso vrednost med sosedi.,tako tudi preprecimo ponavljanje vozlisc v mnozici.\n",
    "        A = []      \n",
    "        A.append(P[i])\n",
    "        if list(G.neighbors(i)) != []:\n",
    "            for j in list(G.neighbors(i)):\n",
    "                A.append(P[j])\n",
    "        if P[i] == min(A):\n",
    "            I.append(i)\n",
    "    N = [] \n",
    "    for i in I:\n",
    "        N += G.neighbors(i)\n",
    "    V1 = I + N\n",
    "    V1 = list(dict.fromkeys(V1)) # V1 je mnozica, ki jo bomo odstranili iz grafa in je sestavljena iz vozlisc iz I, ter njihovih sosedov\n",
    "    if I == []:\n",
    "        return []\n",
    "    else:\n",
    "        G1 = G.copy()\n",
    "        G1.remove_nodes_from(V1)\n",
    "        return list(I + nakljucni_MIS(G1, P))"
   ]
  },
  {
   "cell_type": "code",
   "execution_count": 70,
   "id": "40ea93a2",
   "metadata": {},
   "outputs": [],
   "source": [
    "def tightness(graf, mnozica, v): #Dolocimo \"tightness\" vozlisca v, v mnozici X, tj. za vsakega soseda vozlisca v, v mnozici graf\\X, tightness(v) povecamo za 1\n",
    "    t = 0\n",
    "    for w in graf.neighbors(v):\n",
    "        if w in mnozica:\n",
    "            t += 1\n",
    "        else:\n",
    "            pass\n",
    "    return t\n",
    "\n",
    "def lokalno_iskanje(G, I):\n",
    "    I = list(I) # naredimo kopijo seznama I, oziroma ga pretvorimo, če ni v obliki seznama\n",
    "    J = [] # seznam vozlišč, ki niso bila nadomeščena\n",
    "    while I: # ponavljamo, dokler seznam ni prazen\n",
    "        v = I.pop(0) # poberemo prvo vozlišče iz I\n",
    "        L = [w for w in G.neighbors(v) if tightness(G, I+J, w) == 0]\n",
    "        for i, v1 in enumerate(L):\n",
    "            for w1 in L[i+1:]: # kopiramo iteratorja - da pregledamo vsak par enkrat\n",
    "                if w1 not in G.neighbors(v1):\n",
    "                    I += [v1, w1] # dodamo vozlišči v I\n",
    "                    break\n",
    "            else: # notranja zanka je prišla do konca\n",
    "                continue # poskusimo z drugim v1\n",
    "            break # notranjo zanko smo prekinili, prekinimo še zunanjo\n",
    "        else: # zunanja zanka je prišla do konca\n",
    "            J.append(v) # vozlišča v nismo uspeli nadomestiti, pustimo ga v izhodu\n",
    "    return J"
   ]
  },
  {
   "cell_type": "code",
   "execution_count": 71,
   "id": "73a66251",
   "metadata": {},
   "outputs": [],
   "source": [
    "def CLP(G):\n",
    "    p = MixedIntegerLinearProgram(maximization=True)\n",
    "    x = p.new_variable(binary=True)\n",
    "    p.set_objective(sum(x[v] for v in G))\n",
    "\n",
    "    for u, v in G.edges(labels=False):\n",
    "        p.add_constraint(x[u] + x[v] <= 1)\n",
    "    \n",
    "    p.solve()\n",
    "    x = p.get_values(x)\n",
    "    return [v for v, i in x.items() if i]"
   ]
  },
  {
   "cell_type": "code",
   "execution_count": 72,
   "id": "2e79ba5f",
   "metadata": {},
   "outputs": [],
   "source": [
    "def zapisi_v_json(datoteka,A): \n",
    "    with open(datoteka +'.json','w') as js:\n",
    "        js.write(\n",
    "            '[' +\n",
    "            ',\\n'.join(json.dumps(i) for i in A) +\n",
    "            ']\\n')\n",
    "\n",
    "# Dano verjetnost in n\n",
    "def erdos_renyi(n,p,m):\n",
    "    A = []\n",
    "    for i in range(m):\n",
    "        G = nx.erdos_renyi_graph(n,p)\n",
    "        G_slovar = nx.to_dict_of_lists(G)\n",
    "        A += [G_slovar]\n",
    "\n",
    "    return A\n",
    "\n",
    "\n",
    "# Razlicne n\n",
    "\n",
    "def erdos_renyi_N(N, p):\n",
    "    A = []\n",
    "    for i in N:\n",
    "        G = nx.erdos_renyi_graph(i,p)\n",
    "        G_slovar = nx.to_dict_of_lists(G)\n",
    "        A += [G_slovar]\n",
    "\n",
    "    return A\n",
    "\n",
    "\n",
    "#Razlicne p\n",
    "\n",
    "def erdos_renyi_P(n, P):\n",
    "    A = []\n",
    "    for i in P:\n",
    "        G = nx.erdos_renyi_graph(n,i)\n",
    "        G_slovar = nx.to_dict_of_lists(G)\n",
    "        A += [G_slovar]\n",
    "    return A\n"
   ]
  },
  {
   "cell_type": "markdown",
   "id": "065cebe5",
   "metadata": {},
   "source": [
    "# Ista vozlišča in verjetnost, večkrat\n"
   ]
  },
  {
   "cell_type": "code",
   "execution_count": 73,
   "id": "0bd2f655",
   "metadata": {},
   "outputs": [],
   "source": [
    "A = erdos_renyi(30, 0.3, 500)"
   ]
  },
  {
   "cell_type": "code",
   "execution_count": 74,
   "id": "aafe2994",
   "metadata": {},
   "outputs": [],
   "source": [
    "np1000_nakljucno = []\n",
    "np1000_najboljse = []\n",
    "casi_np1000_nakljucno = []\n",
    "casi_np1000_najboljsih = []\n",
    "najboljse = []\n",
    "resitve = []\n",
    "for i in A:\n",
    "    \n",
    "    Q = []\n",
    "    time1 = time()\n",
    "    res = nakljucni_MIS(nx.Graph(i), list(np.random.permutation(len(nx.Graph(i).nodes))))\n",
    "    time2 = time()\n",
    "   \n",
    "\n",
    "    time3 = time()\n",
    "    nakljucne = []\n",
    "    for x in range(20):\n",
    "        nak = nakljucni_MIS(nx.Graph(i), list(np.random.permutation(len(nx.Graph(i).nodes))))\n",
    "        Q.append(len(nak))\n",
    "        nakljucne.append(nak)\n",
    "    najboljsa_1 = max(Q)\n",
    "    indeks = Q.index(najboljsa_1)\n",
    "    maks_mn = nakljucne[indeks]\n",
    "    time4 = time()\n",
    "\n",
    "    np1000_nakljucno.append(len(res))\n",
    "    casi_np1000_nakljucno.append(time2 - time1)\n",
    "    casi_np1000_najboljsih.append(time4-time3)\n",
    "    np1000_najboljse.append(najboljsa_1)\n",
    "    najboljse.append(maks_mn)\n",
    "    resitve.append(res)\n"
   ]
  },
  {
   "cell_type": "code",
   "execution_count": 75,
   "id": "040b4b7f",
   "metadata": {},
   "outputs": [],
   "source": [
    "np1000_CLP = []\n",
    "casi_np1000_CLP = []\n",
    "for i in A:\n",
    "    X = Graph()\n",
    "    from_dict_of_lists(X, i)\n",
    "    time1 = time()\n",
    "    rez = CLP(X)\n",
    "    time2 = time()\n",
    "    np1000_CLP.append(len(rez))\n",
    "    casi_np1000_CLP.append(time2 - time1)"
   ]
  },
  {
   "cell_type": "code",
   "execution_count": 76,
   "id": "e492733a",
   "metadata": {},
   "outputs": [],
   "source": [
    "np1000_lokalno = []\n",
    "casi_np1000_lokalno = []\n",
    "for i in range(len(A)):\n",
    "    time1 = time()\n",
    "    rez = lokalno_iskanje(nx.Graph(A[i]), resitve[i])\n",
    "    time2 = time()\n",
    "    np1000_lokalno.append(len(rez))\n",
    "    casi_np1000_lokalno.append(time2 - time1)\n",
    "\n",
    "\n",
    "np1000_lokalno_najboljsi = []\n",
    "casi_np1000_lokalno_najboljsi = []\n",
    "for i in range(len(A)):\n",
    "    time1 = time()\n",
    "    rez = lokalno_iskanje(nx.Graph(A[i]), najboljse[i])\n",
    "    time2 = time()\n",
    "    np1000_lokalno_najboljsi.append(len(rez))\n",
    "    casi_np1000_lokalno_najboljsi.append(time2 - time1)\n",
    "\n",
    "np1000_lokalno_nakljucni = []\n",
    "casi_np1000_lokalno_nakljucni = []\n",
    "for i in A:\n",
    "    nakljucne = []\n",
    "    moci_mnozic = []\n",
    "\n",
    "    time1 = time()\n",
    "    for x in range(5):\n",
    "        nak = nakljucni_MIS(nx.Graph(i), list(np.random.permutation(len(nx.Graph(i).nodes))))\n",
    "        nakljucne.append(nak)\n",
    "    for y in range(len(nakljucne)):\n",
    "        rez = lokalno_iskanje(nx.Graph(i), nakljucne[y])\n",
    "        moci_mnozic.append(len(rez))\n",
    "    time2 = time()\n",
    "\n",
    "    np1000_lokalno_nakljucni.append(max(moci_mnozic))\n",
    "    casi_np1000_lokalno_nakljucni.append(time2-time1)\n",
    "    "
   ]
  },
  {
   "cell_type": "code",
   "execution_count": 77,
   "id": "2e5c1c8a",
   "metadata": {},
   "outputs": [],
   "source": [
    "data_np1000 = {\"Nakljucno\":np1000_nakljucno, \"Casi nakljucno\": casi_np1000_nakljucno,\n",
    "           \"CLP\": np1000_CLP, \"Casi CLP\": casi_np1000_CLP ,\n",
    "            \"Lokalno iskanje\": np1000_lokalno, \"Casi lokalno\": casi_np1000_lokalno}\n",
    "data_np1000 = pd.DataFrame(data_np1000)\n",
    "\n",
    "data_np1000_maxi = {\n",
    "    \"Najboljsi nakljucno\":np1000_najboljse, \"Casi najboljsi nakljucno\":casi_np1000_najboljsih,\n",
    "    \"CLP\": np1000_CLP, \"Casi CLP\": casi_np1000_CLP ,\n",
    "    \"Najboljsi lokalno iskanje\":np1000_lokalno_najboljsi, \"Casi najboljsi lokalno iskanje\":casi_np1000_lokalno_najboljsi, \n",
    "    \"Nakljucni lokalno iskanje\":np1000_lokalno_nakljucni, \"Casi nakljucni lokalno iskanje\":casi_np1000_lokalno_nakljucni, \n",
    "}\n",
    "\n",
    "data_np1000_maxi = pd.DataFrame(data_np1000_maxi)"
   ]
  },
  {
   "cell_type": "code",
   "execution_count": 78,
   "id": "77c4a6ad",
   "metadata": {},
   "outputs": [],
   "source": [
    "\n",
    "X = []\n",
    "for i in range(len(np1000_lokalno)):\n",
    "    X.append(np1000_CLP[i] - np1000_lokalno[i])\n",
    "\n",
    "slovar_pojavitev = {}\n",
    "for i in range(max(X)):\n",
    "    slovar_pojavitev[i]=X.count(i)\n",
    "kljuc = slovar_pojavitev.keys()\n",
    "vrednost=slovar_pojavitev.values()"
   ]
  },
  {
   "cell_type": "code",
   "execution_count": 79,
   "id": "716356ec",
   "metadata": {},
   "outputs": [],
   "source": [
    "data_np1000_razlike = {\n",
    "    \"razlika\":list(kljuc),\n",
    "    \"pojavitev\":list(vrednost)\n",
    "    }\n",
    "\n",
    "data_np1000_razlike = pd.DataFrame(data_np1000_razlike)\n"
   ]
  },
  {
   "cell_type": "markdown",
   "id": "6ca13f6d",
   "metadata": {},
   "source": [
    "# Različna vozlišča, ista verjetnost"
   ]
  },
  {
   "cell_type": "code",
   "execution_count": 80,
   "id": "8c5dbe98",
   "metadata": {},
   "outputs": [],
   "source": [
    "N = list(range(1, 601, 8))\n",
    "B = erdos_renyi_N(N, 0.005)"
   ]
  },
  {
   "cell_type": "code",
   "execution_count": 81,
   "id": "03505833",
   "metadata": {},
   "outputs": [],
   "source": [
    "Np_nakljucno = []\n",
    "casi_Np_nakljucno = []\n",
    "resitve = []\n",
    "for i in B:\n",
    "    time1 = time()\n",
    "    nak = nakljucni_MIS(nx.Graph(i), list(np.random.permutation(len(nx.Graph(i).nodes))))\n",
    "    time2 = time()\n",
    "    Np_nakljucno.append(len(nak))\n",
    "    casi_Np_nakljucno.append(time2 - time1)\n",
    "    resitve.append(nak)"
   ]
  },
  {
   "cell_type": "code",
   "execution_count": 82,
   "id": "2720ced9",
   "metadata": {},
   "outputs": [],
   "source": [
    "Np_CLP = []\n",
    "casi_Np_CLP = []\n",
    "for i in B:\n",
    "    X = Graph()\n",
    "    from_dict_of_lists(X, i)\n",
    "    time1 = time()\n",
    "    rez = CLP(X)\n",
    "    time2 = time()\n",
    "    Np_CLP.append(len(rez))\n",
    "    casi_Np_CLP.append(time2 - time1)"
   ]
  },
  {
   "cell_type": "code",
   "execution_count": 83,
   "id": "9f2ca3c8",
   "metadata": {},
   "outputs": [],
   "source": [
    "Np_lokalno = []\n",
    "casi_Np_lokalno = []\n",
    "for i in range(len(B)):\n",
    "    time1 = time()\n",
    "    rez = lokalno_iskanje(nx.Graph(B[i]), resitve[i])\n",
    "    time2 = time()\n",
    "    Np_lokalno.append(len(rez))\n",
    "    casi_Np_lokalno.append(time2 - time1)"
   ]
  },
  {
   "cell_type": "code",
   "execution_count": 84,
   "id": "b0fcead0",
   "metadata": {},
   "outputs": [],
   "source": [
    "data_Np = {\"Stevilo vozlisc\":N ,\"Nakljucno\":Np_nakljucno, \"Casi nakljucno\": casi_Np_nakljucno,\n",
    "           \"CLP\": Np_CLP, \"Casi CLP\": casi_Np_CLP ,\n",
    "            \"Lokalno iskanje\": Np_lokalno, \"Casi lokalno\": casi_Np_lokalno}\n",
    "data_Np = pd.DataFrame(data_Np)"
   ]
  },
  {
   "cell_type": "markdown",
   "id": "b36ac30f",
   "metadata": {},
   "source": [
    "# Ista vozlišča, različna verjetnost"
   ]
  },
  {
   "cell_type": "code",
   "execution_count": 85,
   "id": "0226985a",
   "metadata": {},
   "outputs": [],
   "source": [
    "P = list(np.linspace(0.1, 0.8, 80))\n",
    "C = erdos_renyi_P(25, P)"
   ]
  },
  {
   "cell_type": "code",
   "execution_count": 86,
   "id": "2fdce0e5",
   "metadata": {},
   "outputs": [],
   "source": [
    "nP_nakljucno = []\n",
    "casi_nP_nakljucno = []\n",
    "resitve = []\n",
    "for i in C:\n",
    "    time1 = time()\n",
    "    nak = nakljucni_MIS(nx.Graph(i), list(np.random.permutation(len(nx.Graph(i).nodes))))\n",
    "    time2 = time()\n",
    "    nP_nakljucno.append(len(nak))\n",
    "    casi_nP_nakljucno.append(time2 - time1)\n",
    "    resitve.append(nak)"
   ]
  },
  {
   "cell_type": "code",
   "execution_count": 87,
   "id": "fe7324da",
   "metadata": {},
   "outputs": [],
   "source": [
    "nP_CLP = []\n",
    "casi_nP_CLP = []\n",
    "for i in C:\n",
    "    X = Graph()\n",
    "    from_dict_of_lists(X, i)\n",
    "    time1 = time()\n",
    "    rez = CLP(X)\n",
    "    time2 = time()\n",
    "    nP_CLP.append(len(rez))\n",
    "    casi_nP_CLP.append(time2 - time1)"
   ]
  },
  {
   "cell_type": "code",
   "execution_count": 88,
   "id": "fbca28fd",
   "metadata": {},
   "outputs": [],
   "source": [
    "nP_lokalno = []\n",
    "casi_nP_lokalno = []\n",
    "for i in range(len(C)):\n",
    "    time1 = time()\n",
    "    rez = lokalno_iskanje(nx.Graph(C[i]), resitve[i])\n",
    "    time2 = time()\n",
    "    nP_lokalno.append(len(rez))\n",
    "    casi_nP_lokalno.append(time2 - time1)"
   ]
  },
  {
   "cell_type": "code",
   "execution_count": 89,
   "id": "c73d5d3a",
   "metadata": {},
   "outputs": [],
   "source": [
    "data_nP = {\"Verjetnost\":P,\"Nakljucno\":nP_nakljucno, \"Casi nakljucno\": casi_nP_nakljucno,\n",
    "           \"CLP\": nP_CLP, \"Casi CLP\": casi_nP_CLP ,\n",
    "            \"Lokalno iskanje\": nP_lokalno, \"Casi lokalno\": casi_nP_lokalno}\n",
    "data_nP = pd.DataFrame(data_nP)\n",
    "\n",
    "\n"
   ]
  },
  {
   "cell_type": "code",
   "execution_count": 90,
   "id": "5a56a18a",
   "metadata": {},
   "outputs": [],
   "source": [
    "zapisi_v_json(\"JSON_datoteke/grafi_ver\",C)\n",
    "data_nP.to_csv('R_koda/grafi_ver.csv')"
   ]
  },
  {
   "cell_type": "code",
   "execution_count": 91,
   "id": "21d7ab5f",
   "metadata": {},
   "outputs": [],
   "source": [
    "zapisi_v_json(\"JSON_datoteke/grafi1000\", A)\n",
    "data_np1000.to_csv('R_koda/grafi1000.csv')"
   ]
  },
  {
   "cell_type": "code",
   "execution_count": 92,
   "id": "33f3d7c9",
   "metadata": {},
   "outputs": [],
   "source": [
    "zapisi_v_json(\"JSON_datoteke/grafi_voz\",B)\n",
    "data_Np.to_csv('R_koda/grafi_voz.csv')"
   ]
  },
  {
   "cell_type": "code",
   "execution_count": 93,
   "id": "0884e913",
   "metadata": {},
   "outputs": [],
   "source": [
    "data_np1000_razlike.to_csv('R_koda/graf_razlik.csv')"
   ]
  },
  {
   "cell_type": "code",
   "execution_count": 94,
   "id": "dc9ee630",
   "metadata": {},
   "outputs": [],
   "source": [
    "data_np1000_maxi.to_csv('R_koda/grafi1000_maxi.csv')"
   ]
  }
 ],
 "metadata": {
  "interpreter": {
   "hash": "af31c79f5412850930f94cc7239881042022400a9425331620919db41c4e1a42"
  },
  "kernelspec": {
   "display_name": "SageMath 9.4",
   "language": "sage",
   "name": "python399jvsc74a57bd00bb33ca9676efce3ca0e4e499ca98afa8af74a1912873c00ab519ed1bd3c864e"
  },
  "language_info": {
   "codemirror_mode": {
    "name": "ipython",
    "version": 3
   },
   "file_extension": ".py",
   "mimetype": "text/x-python",
   "name": "python",
   "nbconvert_exporter": "python",
   "pygments_lexer": "ipython3",
   "version": "3.9.9"
  }
 },
 "nbformat": 4,
 "nbformat_minor": 5
}
