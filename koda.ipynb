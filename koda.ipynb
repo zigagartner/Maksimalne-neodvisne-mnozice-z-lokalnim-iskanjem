{
 "cells": [
  {
   "cell_type": "code",
   "execution_count": 1,
   "id": "cbabea37",
   "metadata": {},
   "outputs": [],
   "source": [
    "import networkx as nx \n",
    "import numpy as np\n",
    "import json\n",
    "import pandas as pd\n",
    "from sage.graphs.graph_input import from_dict_of_lists\n",
    "from time import time"
   ]
  },
  {
   "cell_type": "code",
   "execution_count": 2,
   "id": "bf3e1e81",
   "metadata": {},
   "outputs": [],
   "source": [
    "def nakljucni_MIS(G, P):\n",
    "    I = []            #Nastajajoca neodvisna mnozica\n",
    "    V = list(G.nodes)\n",
    "    for i in V:        # V tej mnozici izberemo vozlisca, ki jih dodamo neodvisni mnozici. P je permutacija naravnih stevil do vkljucno len(V). Vozlisce dodamo I, ce ima najmanjso vrednost med sosedi.,tako tudi preprecimo ponavljanje vozlisc v mnozici.\n",
    "        A = []      \n",
    "        A.append(P[i])\n",
    "        if list(G.neighbors(i)) != []:\n",
    "            for j in list(G.neighbors(i)):\n",
    "                A.append(P[j])\n",
    "        if P[i] == min(A):\n",
    "            I.append(i)\n",
    "    N = [] \n",
    "    for i in I:\n",
    "        N += G.neighbors(i)\n",
    "    V1 = I + N\n",
    "    V1 = list(dict.fromkeys(V1)) # V1 je mnozica, ki jo bomo odstranili iz grafa in je sestavljena iz vozlisc iz I, ter njihovih sosedov\n",
    "    if I == []:\n",
    "        return []\n",
    "    else:\n",
    "        G1 = G.copy()\n",
    "        G1.remove_nodes_from(V1)\n",
    "        return list(I + nakljucni_MIS(G1, P))"
   ]
  },
  {
   "cell_type": "code",
   "execution_count": 3,
   "id": "df7379cd",
   "metadata": {},
   "outputs": [],
   "source": [
    "def tightness(graf, mnozica, v): #Dolocimo \"tightness\" vozlisca v, v mnozici X, tj. za vsakega soseda vozlisca v, v mnozici graf\\X, tightness(v) povecamo za 1\n",
    "    t = 0\n",
    "    for w in graf.neighbors(v):\n",
    "        if w in mnozica:\n",
    "            t += 1\n",
    "        else:\n",
    "            pass\n",
    "    return t\n",
    "\n",
    "def lokalno_iskanje(G, I): #Parametra graf v networkx formatu, neodvisna množica I (gre za Python list)\n",
    "    V = list(G.nodes)\n",
    "    for v in I:\n",
    "        L = [] #Gradimo mnozice potencialnih kandidatov za dodajanje v neodvisno mnozico\n",
    "        for w in G.neighbors(v):\n",
    "            if G.neighbors(v) != []:\n",
    "                if tightness(G, I, w) == 1:\n",
    "                    L.append(w)\n",
    "                else:\n",
    "                    pass\n",
    "            else:\n",
    "                pass\n",
    "        if len(L) >= 2:\n",
    "            for v1 in L:\n",
    "                for w1 in L:\n",
    "                    if w1 not in G.neighbors(v1):\n",
    "                        I.remove(v)\n",
    "                        I_lokalno = I + [v1, w1]\n",
    "                        return lokalno_iskanje(G, I_lokalno)\n",
    "                    else:\n",
    "                        pass\n",
    "            else:\n",
    "                return I\n",
    "        else:\n",
    "            return I "
   ]
  },
  {
   "cell_type": "code",
   "execution_count": 4,
   "id": "c2d8f34c",
   "metadata": {},
   "outputs": [],
   "source": [
    "def CLP(G):\n",
    "    p = MixedIntegerLinearProgram(maximization=True)\n",
    "    x = p.new_variable(binary=True)\n",
    "    p.set_objective(sum(x[v] for v in G))\n",
    "\n",
    "    for u, v in G.edges(labels=False):\n",
    "        p.add_constraint(x[u] + x[v] <= 1)\n",
    "    \n",
    "    p.solve()\n",
    "    x = p.get_values(x)\n",
    "    return [v for v, i in x.items() if i]"
   ]
  },
  {
   "cell_type": "code",
   "execution_count": 5,
   "id": "97819635",
   "metadata": {},
   "outputs": [],
   "source": [
    "def zapisi_v_json(datoteka,A):\n",
    "    with open(datoteka +'.json','w') as js:\n",
    "        js.write(\n",
    "            '[' +\n",
    "            ',\\n'.join(json.dumps(i) for i in A) +\n",
    "            ']\\n')\n",
    "\n",
    "# Dano verjetnost in n\n",
    "def erdos_renyi(n,p,m):\n",
    "    A = []\n",
    "    for i in range(m):\n",
    "        G = nx.erdos_renyi_graph(n,p)\n",
    "        G_slovar = nx.to_dict_of_lists(G)\n",
    "        A += [G_slovar]\n",
    "\n",
    "    return A\n",
    "\n",
    "\n",
    "# Razlicne n\n",
    "\n",
    "def erdos_renyi_N(N, p):\n",
    "    A = []\n",
    "    for i in N:\n",
    "        G = nx.erdos_renyi_graph(i,p)\n",
    "        G_slovar = nx.to_dict_of_lists(G)\n",
    "        A += [G_slovar]\n",
    "\n",
    "    return A\n",
    "\n",
    "\n",
    "#Razlicne p\n",
    "\n",
    "def erdos_renyi_P(n, P):\n",
    "    A = []\n",
    "    for i in P:\n",
    "        G = nx.erdos_renyi_graph(n,i)\n",
    "        G_slovar = nx.to_dict_of_lists(G)\n",
    "        A += [G_slovar]\n",
    "    return A\n"
   ]
  },
  {
   "cell_type": "markdown",
   "id": "dba559c5",
   "metadata": {},
   "source": [
    "# Ista vozlišča in verjetnost, večkrat\n"
   ]
  },
  {
   "cell_type": "code",
   "execution_count": 6,
   "id": "6b561d96",
   "metadata": {},
   "outputs": [],
   "source": [
    "A = erdos_renyi(50, 0.3, 100)"
   ]
  },
  {
   "cell_type": "code",
   "execution_count": 7,
   "id": "0ae9ed92",
   "metadata": {},
   "outputs": [],
   "source": [
    "np1000_nakljucno = []\n",
    "casi_np1000_nakljucno = []\n",
    "resitve = []\n",
    "for i in A:\n",
    "    time1 = time()\n",
    "    nak = nakljucni_MIS(nx.Graph(i), list(np.random.permutation(len(nx.Graph(i).nodes))))\n",
    "    time2 = time()\n",
    "    np1000_nakljucno.append(len(nak))\n",
    "    casi_np1000_nakljucno.append(time2 - time1)\n",
    "    resitve.append(nak)"
   ]
  },
  {
   "cell_type": "code",
   "execution_count": 8,
   "id": "d298d144",
   "metadata": {},
   "outputs": [],
   "source": [
    "np1000_CLP = []\n",
    "casi_np1000_CLP = []\n",
    "for i in A:\n",
    "    X = Graph()\n",
    "    from_dict_of_lists(X, i)\n",
    "    time1 = time()\n",
    "    rez = CLP(X)\n",
    "    time2 = time()\n",
    "    np1000_CLP.append(len(rez))\n",
    "    casi_np1000_CLP.append(time2 - time1)"
   ]
  },
  {
   "cell_type": "code",
   "execution_count": 9,
   "id": "93a883d4",
   "metadata": {},
   "outputs": [],
   "source": [
    "np1000_lokalno = []\n",
    "casi_np1000_lokalno = []\n",
    "for i in range(len(A)):\n",
    "    time1 = time()\n",
    "    rez = lokalno_iskanje(nx.Graph(A[i]), resitve[i])\n",
    "    time2 = time()\n",
    "    np1000_lokalno.append(len(rez))\n",
    "    casi_np1000_lokalno.append(time2 - time1)"
   ]
  },
  {
   "cell_type": "code",
   "execution_count": 10,
   "id": "c40b0bef",
   "metadata": {},
   "outputs": [],
   "source": [
    "data_np1000 = {\"Nakljucno\":np1000_nakljucno, \"Casi nakljucno\": casi_np1000_nakljucno,\n",
    "           \"CLP\": np1000_CLP, \"Casi CLP\": casi_np1000_CLP ,\n",
    "            \"Lokalno iskanje\": np1000_lokalno, \"Casi lokalno\": casi_np1000_lokalno}\n",
    "data_np1000 = pd.DataFrame(data_np1000)\n",
    "\n"
   ]
  },
  {
   "cell_type": "markdown",
   "id": "e97f1bff",
   "metadata": {},
   "source": [
    "# Različna vozlišča, ista verjetnost"
   ]
  },
  {
   "cell_type": "code",
   "execution_count": 11,
   "id": "62e52ed8",
   "metadata": {},
   "outputs": [],
   "source": [
    "N = list(range(1, 601, 10))\n",
    "B = erdos_renyi_N(N, 0.005)"
   ]
  },
  {
   "cell_type": "code",
   "execution_count": 12,
   "id": "443c5869",
   "metadata": {},
   "outputs": [],
   "source": [
    "Np_nakljucno = []\n",
    "casi_Np_nakljucno = []\n",
    "resitve = []\n",
    "for i in B:\n",
    "    time1 = time()\n",
    "    nak = nakljucni_MIS(nx.Graph(i), list(np.random.permutation(len(nx.Graph(i).nodes))))\n",
    "    time2 = time()\n",
    "    Np_nakljucno.append(len(nak))\n",
    "    casi_Np_nakljucno.append(time2 - time1)\n",
    "    resitve.append(nak)"
   ]
  },
  {
   "cell_type": "code",
   "execution_count": 13,
   "id": "987b5e5c",
   "metadata": {},
   "outputs": [],
   "source": [
    "Np_CLP = []\n",
    "casi_Np_CLP = []\n",
    "for i in B:\n",
    "    X = Graph()\n",
    "    from_dict_of_lists(X, i)\n",
    "    time1 = time()\n",
    "    rez = CLP(X)\n",
    "    time2 = time()\n",
    "    Np_CLP.append(len(rez))\n",
    "    casi_Np_CLP.append(time2 - time1)"
   ]
  },
  {
   "cell_type": "code",
   "execution_count": 14,
   "id": "1127f267",
   "metadata": {},
   "outputs": [],
   "source": [
    "Np_lokalno = []\n",
    "casi_Np_lokalno = []\n",
    "for i in range(len(B)):\n",
    "    time1 = time()\n",
    "    rez = lokalno_iskanje(nx.Graph(B[i]), resitve[i])\n",
    "    time2 = time()\n",
    "    Np_lokalno.append(len(rez))\n",
    "    casi_Np_lokalno.append(time2 - time1)"
   ]
  },
  {
   "cell_type": "code",
   "execution_count": 15,
   "id": "7fd01591",
   "metadata": {},
   "outputs": [],
   "source": [
    "data_Np = {\"Stevilo vozlisc\":N ,\"Nakljucno\":Np_nakljucno, \"Casi nakljucno\": casi_Np_nakljucno,\n",
    "           \"CLP\": Np_CLP, \"Casi CLP\": casi_Np_CLP ,\n",
    "            \"Lokalno iskanje\": Np_lokalno, \"Casi lokalno\": casi_Np_lokalno}\n",
    "data_Np = pd.DataFrame(data_Np)"
   ]
  },
  {
   "cell_type": "markdown",
   "id": "f868ce97",
   "metadata": {},
   "source": [
    "# Ista vozlišča, različna verjetnost"
   ]
  },
  {
   "cell_type": "code",
   "execution_count": 16,
   "id": "7c8fa194",
   "metadata": {},
   "outputs": [],
   "source": [
    "P = list(np.linspace(0.1, 0.8, 50))\n",
    "C = erdos_renyi_P(25, P)"
   ]
  },
  {
   "cell_type": "code",
   "execution_count": 17,
   "id": "f444dd11",
   "metadata": {},
   "outputs": [],
   "source": [
    "nP_nakljucno = []\n",
    "casi_nP_nakljucno = []\n",
    "resitve = []\n",
    "for i in C:\n",
    "    time1 = time()\n",
    "    nak = nakljucni_MIS(nx.Graph(i), list(np.random.permutation(len(nx.Graph(i).nodes))))\n",
    "    time2 = time()\n",
    "    nP_nakljucno.append(len(nak))\n",
    "    casi_nP_nakljucno.append(time2 - time1)\n",
    "    resitve.append(nak)"
   ]
  },
  {
   "cell_type": "code",
   "execution_count": 18,
   "id": "c0cd850c",
   "metadata": {},
   "outputs": [],
   "source": [
    "nP_CLP = []\n",
    "casi_nP_CLP = []\n",
    "for i in C:\n",
    "    X = Graph()\n",
    "    from_dict_of_lists(X, i)\n",
    "    time1 = time()\n",
    "    rez = CLP(X)\n",
    "    time2 = time()\n",
    "    nP_CLP.append(len(rez))\n",
    "    casi_nP_CLP.append(time2 - time1)"
   ]
  },
  {
   "cell_type": "code",
   "execution_count": 19,
   "id": "689ba571",
   "metadata": {},
   "outputs": [],
   "source": [
    "nP_lokalno = []\n",
    "casi_nP_lokalno = []\n",
    "for i in range(len(C)):\n",
    "    time1 = time()\n",
    "    rez = lokalno_iskanje(nx.Graph(C[i]), resitve[i])\n",
    "    time2 = time()\n",
    "    nP_lokalno.append(len(rez))\n",
    "    casi_nP_lokalno.append(time2 - time1)"
   ]
  },
  {
   "cell_type": "code",
   "execution_count": 20,
   "id": "b2f8b508",
   "metadata": {},
   "outputs": [
    {
     "name": "stdout",
     "output_type": "stream",
     "text": [
      "    Verjetnost  Nakljucno  Casi nakljucno  CLP  Casi CLP  Lokalno iskanje  \\\n",
      "0     0.100000         14        0.000806   14  0.003009               14   \n",
      "1     0.114286         10        0.000709   12  0.002482               11   \n",
      "2     0.128571         12        0.000625   14  0.001665               12   \n",
      "3     0.142857         12        0.000714   13  0.002108               12   \n",
      "4     0.157143         11        0.000638   11  0.002972               11   \n",
      "5     0.171429          9        0.000844   11  0.002606                9   \n",
      "6     0.185714         10        0.000629   11  0.002346               11   \n",
      "7     0.200000          6        0.000823   10  0.003892                6   \n",
      "8     0.214286          8        0.000850    9  0.004309                8   \n",
      "9     0.228571          6        0.000774   10  0.004378                9   \n",
      "10    0.242857         11        0.000739   11  0.002760               11   \n",
      "11    0.257143          8        0.000949   10  0.003699                8   \n",
      "12    0.271429          6        0.001088    9  0.004224                9   \n",
      "13    0.285714          6        0.001160    8  0.005727                8   \n",
      "14    0.300000          8        0.001020    9  0.004921                8   \n",
      "15    0.314286          8        0.001015    9  0.003859                9   \n",
      "16    0.328571          7        0.000853    8  0.005177                7   \n",
      "17    0.342857          5        0.000782    9  0.005136                6   \n",
      "18    0.357143          7        0.000937    7  0.007157                7   \n",
      "19    0.371429          4        0.001061    8  0.007304                8   \n",
      "20    0.385714          6        0.000921    7  0.007359                6   \n",
      "21    0.400000          6        0.001113    8  0.005150                9   \n",
      "22    0.414286          5        0.001184    7  0.006911                6   \n",
      "23    0.428571          5        0.001355    6  0.009202                6   \n",
      "24    0.442857          6        0.001043    7  0.006621                6   \n",
      "25    0.457143          5        0.001040    6  0.007411                5   \n",
      "26    0.471429          5        0.001079    5  0.009745                6   \n",
      "27    0.485714          5        0.001079    6  0.007847                5   \n",
      "28    0.500000          4        0.000939    7  0.007113                4   \n",
      "29    0.514286          4        0.000925    6  0.008078                5   \n",
      "30    0.528571          4        0.001190    6  0.008177                5   \n",
      "31    0.542857          5        0.001340    6  0.008776                5   \n",
      "32    0.557143          4        0.001166    5  0.009222                5   \n",
      "33    0.571429          3        0.001226    5  0.008834                5   \n",
      "34    0.585714          4        0.001092    5  0.010834                4   \n",
      "35    0.600000          5        0.001114    5  0.009012                5   \n",
      "36    0.614286          4        0.001161    5  0.010114                4   \n",
      "37    0.628571          3        0.001316    5  0.011459                4   \n",
      "38    0.642857          3        0.001197    4  0.010272                3   \n",
      "39    0.657143          3        0.001285    4  0.010161                5   \n",
      "40    0.671429          4        0.001250    5  0.009726                4   \n",
      "41    0.685714          3        0.001300    3  0.012169                3   \n",
      "42    0.700000          3        0.001281    5  0.009839                6   \n",
      "43    0.714286          2        0.001338    4  0.010395                7   \n",
      "44    0.728571          2        0.001655    3  0.011995                2   \n",
      "45    0.742857          3        0.001365    5  0.009788                4   \n",
      "46    0.757143          4        0.001599    4  0.010663                4   \n",
      "47    0.771429          2        0.001416    4  0.010871                8   \n",
      "48    0.785714          3        0.001539    3  0.011836                3   \n",
      "49    0.800000          3        0.001467    3  0.011771                3   \n",
      "\n",
      "    Casi lokalno  \n",
      "0       0.000179  \n",
      "1       0.000171  \n",
      "2       0.000129  \n",
      "3       0.000152  \n",
      "4       0.000176  \n",
      "5       0.000186  \n",
      "6       0.000177  \n",
      "7       0.000220  \n",
      "8       0.000217  \n",
      "9       0.000270  \n",
      "10      0.000212  \n",
      "11      0.000227  \n",
      "12      0.000313  \n",
      "13      0.000296  \n",
      "14      0.000264  \n",
      "15      0.000571  \n",
      "16      0.000417  \n",
      "17      0.000312  \n",
      "18      0.000375  \n",
      "19      0.000595  \n",
      "20      0.000314  \n",
      "21      0.000317  \n",
      "22      0.000317  \n",
      "23      0.000336  \n",
      "24      0.000350  \n",
      "25      0.000454  \n",
      "26      0.000392  \n",
      "27      0.000473  \n",
      "28      0.000350  \n",
      "29      0.000361  \n",
      "30      0.000403  \n",
      "31      0.000399  \n",
      "32      0.000395  \n",
      "33      0.000454  \n",
      "34      0.000397  \n",
      "35      0.000381  \n",
      "36      0.000410  \n",
      "37      0.000444  \n",
      "38      0.000565  \n",
      "39      0.000780  \n",
      "40      0.000468  \n",
      "41      0.000501  \n",
      "42      0.000601  \n",
      "43      0.001237  \n",
      "44      0.000595  \n",
      "45      0.000754  \n",
      "46      0.000737  \n",
      "47      0.000889  \n",
      "48      0.000515  \n",
      "49      0.000538  \n"
     ]
    }
   ],
   "source": [
    "data_nP = {\"Verjetnost\":P,\"Nakljucno\":nP_nakljucno, \"Casi nakljucno\": casi_nP_nakljucno,\n",
    "           \"CLP\": nP_CLP, \"Casi CLP\": casi_nP_CLP ,\n",
    "            \"Lokalno iskanje\": nP_lokalno, \"Casi lokalno\": casi_nP_lokalno}\n",
    "data_nP = pd.DataFrame(data_nP)\n",
    "print(data_nP)\n",
    "\n"
   ]
  },
  {
   "cell_type": "code",
   "execution_count": 21,
   "id": "5bd9a18a",
   "metadata": {},
   "outputs": [],
   "source": [
    "zapisi_v_json(\"JSON_datoteke/grafi_ver\",C)\n",
    "data_nP.to_csv('R_koda/grafi_ver.csv')"
   ]
  },
  {
   "cell_type": "code",
   "execution_count": 65,
   "id": "cf4b6e04",
   "metadata": {},
   "outputs": [],
   "source": [
    "zapisi_v_json(\"JSON_datoteke/grafi1000\", A)\n",
    "data_np1000.to_csv('R_koda/grafi1000.csv')"
   ]
  },
  {
   "cell_type": "code",
   "execution_count": 66,
   "id": "fa593226",
   "metadata": {},
   "outputs": [],
   "source": [
    "zapisi_v_json(\"JSON_datoteke/grafi_voz\",B)\n",
    "data_Np.to_csv('R_koda/grafi_voz.csv')"
   ]
  },
  {
   "cell_type": "code",
   "execution_count": null,
   "id": "96f6618b",
   "metadata": {},
   "outputs": [],
   "source": []
  }
 ],
 "metadata": {
  "kernelspec": {
   "display_name": "SageMath 9.4",
   "language": "sage",
   "name": "sagemath"
  },
  "language_info": {
   "codemirror_mode": {
    "name": "ipython",
    "version": 3
   },
   "file_extension": ".py",
   "mimetype": "text/x-python",
   "name": "python",
   "nbconvert_exporter": "python",
   "pygments_lexer": "ipython3",
   "version": "3.9.9"
  }
 },
 "nbformat": 4,
 "nbformat_minor": 5
}
