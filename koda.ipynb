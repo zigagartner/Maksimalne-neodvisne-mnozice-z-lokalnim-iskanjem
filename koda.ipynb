{
 "cells": [
  {
   "cell_type": "code",
   "execution_count": 42,
   "id": "fc54caff",
   "metadata": {},
   "outputs": [],
   "source": [
    "import networkx as nx \n",
    "import numpy as np\n",
    "import json\n",
    "import pandas as pd\n",
    "from sage.graphs.graph_input import from_dict_of_lists\n",
    "from time import time\n",
    "import sys"
   ]
  },
  {
   "cell_type": "code",
   "execution_count": 43,
   "id": "e747a867",
   "metadata": {},
   "outputs": [],
   "source": [
    "sys.setrecursionlimit(10000)"
   ]
  },
  {
   "cell_type": "code",
   "execution_count": 44,
   "id": "66fbff20",
   "metadata": {},
   "outputs": [],
   "source": [
    "def nakljucni_MIS(G, P):\n",
    "    I = []            #Nastajajoca neodvisna mnozica\n",
    "    V = list(G.nodes)\n",
    "    for i in V:        # V tej mnozici izberemo vozlisca, ki jih dodamo neodvisni mnozici. P je permutacija naravnih stevil do vkljucno len(V). Vozlisce dodamo I, ce ima najmanjso vrednost med sosedi.,tako tudi preprecimo ponavljanje vozlisc v mnozici.\n",
    "        A = []      \n",
    "        A.append(P[i])\n",
    "        if list(G.neighbors(i)) != []:\n",
    "            for j in list(G.neighbors(i)):\n",
    "                A.append(P[j])\n",
    "        if P[i] == min(A):\n",
    "            I.append(i)\n",
    "    N = [] \n",
    "    for i in I:\n",
    "        N += G.neighbors(i)\n",
    "    V1 = I + N\n",
    "    V1 = list(dict.fromkeys(V1)) # V1 je mnozica, ki jo bomo odstranili iz grafa in je sestavljena iz vozlisc iz I, ter njihovih sosedov\n",
    "    if I == []:\n",
    "        return []\n",
    "    else:\n",
    "        G1 = G.copy()\n",
    "        G1.remove_nodes_from(V1)\n",
    "        return list(I + nakljucni_MIS(G1, P))"
   ]
  },
  {
   "cell_type": "code",
   "execution_count": 45,
   "id": "46983968",
   "metadata": {},
   "outputs": [],
   "source": [
    "def tightness(graf, mnozica, v): #Dolocimo \"tightness\" vozlisca v, v mnozici X, tj. za vsakega soseda vozlisca v, v mnozici graf\\X, tightness(v) povecamo za 1\n",
    "    t = 0\n",
    "    for w in graf.neighbors(v):\n",
    "        if w in mnozica:\n",
    "            t += 1\n",
    "        else:\n",
    "            pass\n",
    "    return t\n",
    "\n",
    "def lokalno_iskanje(G, I): #Parametra graf v networkx formatu, neodvisna množica I (gre za Python list)\n",
    "    V = list(G.nodes)\n",
    "    for v in I:\n",
    "        L = [] #Gradimo mnozice potencialnih kandidatov za dodajanje v neodvisno mnozico\n",
    "        for w in G.neighbors(v):\n",
    "            if G.neighbors(v) != []:\n",
    "                if tightness(G, I, w) == 1:\n",
    "                    L.append(w)\n",
    "                else:\n",
    "                    pass\n",
    "            else:\n",
    "                pass\n",
    "        while len(L) >= 2:\n",
    "            for v1 in L:\n",
    "                L.remove(v1)\n",
    "                for w1 in L:\n",
    "                    if w1 not in G.neighbors(v1):\n",
    "                        I.remove(v)\n",
    "                        I = I + [v1, w1]\n",
    "                        break\n",
    "                    elif w1 in G.neighbors(v1):\n",
    "                        pass\n",
    "                if w1 not in G.neighbors(v1):\n",
    "                    break\n",
    "            if w1 not in G.neighbors(v1):\n",
    "                break\n",
    "    return I"
   ]
  },
  {
   "cell_type": "code",
   "execution_count": 46,
   "id": "47a504ae",
   "metadata": {},
   "outputs": [],
   "source": [
    "def CLP(G):\n",
    "    p = MixedIntegerLinearProgram(maximization=True)\n",
    "    x = p.new_variable(binary=True)\n",
    "    p.set_objective(sum(x[v] for v in G))\n",
    "\n",
    "    for u, v in G.edges(labels=False):\n",
    "        p.add_constraint(x[u] + x[v] <= 1)\n",
    "    \n",
    "    p.solve()\n",
    "    x = p.get_values(x)\n",
    "    return [v for v, i in x.items() if i]"
   ]
  },
  {
   "cell_type": "code",
   "execution_count": 47,
   "id": "3b77bab6",
   "metadata": {},
   "outputs": [],
   "source": [
    "def zapisi_v_json(datoteka,A):\n",
    "    with open(datoteka +'.json','w') as js:\n",
    "        js.write(\n",
    "            '[' +\n",
    "            ',\\n'.join(json.dumps(i) for i in A) +\n",
    "            ']\\n')\n",
    "\n",
    "# Dano verjetnost in n\n",
    "def erdos_renyi(n,p,m):\n",
    "    A = []\n",
    "    for i in range(m):\n",
    "        G = nx.erdos_renyi_graph(n,p)\n",
    "        G_slovar = nx.to_dict_of_lists(G)\n",
    "        A += [G_slovar]\n",
    "\n",
    "    return A\n",
    "\n",
    "\n",
    "# Razlicne n\n",
    "\n",
    "def erdos_renyi_N(N, p):\n",
    "    A = []\n",
    "    for i in N:\n",
    "        G = nx.erdos_renyi_graph(i,p)\n",
    "        G_slovar = nx.to_dict_of_lists(G)\n",
    "        A += [G_slovar]\n",
    "\n",
    "    return A\n",
    "\n",
    "\n",
    "#Razlicne p\n",
    "\n",
    "def erdos_renyi_P(n, P):\n",
    "    A = []\n",
    "    for i in P:\n",
    "        G = nx.erdos_renyi_graph(n,i)\n",
    "        G_slovar = nx.to_dict_of_lists(G)\n",
    "        A += [G_slovar]\n",
    "    return A\n"
   ]
  },
  {
   "cell_type": "markdown",
   "id": "d871792c",
   "metadata": {},
   "source": [
    "# Ista vozlišča in verjetnost, večkrat\n"
   ]
  },
  {
   "cell_type": "code",
   "execution_count": 48,
   "id": "87f2d328",
   "metadata": {},
   "outputs": [],
   "source": [
    "A = erdos_renyi(50, 0.3, 500)"
   ]
  },
  {
   "cell_type": "code",
   "execution_count": 49,
   "id": "6e921635",
   "metadata": {},
   "outputs": [],
   "source": [
    "np1000_nakljucno = []\n",
    "np1000_najboljse = []\n",
    "casi_np1000_nakljucno = []\n",
    "casi_np1000_najboljsih = []\n",
    "najboljse = []\n",
    "resitve = []\n",
    "for i in A:\n",
    "    \n",
    "    Q = []\n",
    "    time1 = time()\n",
    "    res = nakljucni_MIS(nx.Graph(i), list(np.random.permutation(len(nx.Graph(i).nodes))))\n",
    "    time2 = time()\n",
    "   \n",
    "\n",
    "    time3 = time()\n",
    "    nakljucne = []\n",
    "    for x in range(20):\n",
    "        nak = nakljucni_MIS(nx.Graph(i), list(np.random.permutation(len(nx.Graph(i).nodes))))\n",
    "        Q.append(len(nak))\n",
    "        nakljucne.append(nak)\n",
    "    najboljsa_1 = max(Q)\n",
    "    indeks = Q.index(najboljsa_1)\n",
    "    maks_mn = nakljucne[indeks]\n",
    "    time4 = time()\n",
    "\n",
    "    np1000_nakljucno.append(len(res))\n",
    "    casi_np1000_nakljucno.append(time2 - time1)\n",
    "    casi_np1000_najboljsih.append(time4-time3)\n",
    "    np1000_najboljse.append(najboljsa_1)\n",
    "    najboljse.append(maks_mn)\n",
    "    resitve.append(res)\n"
   ]
  },
  {
   "cell_type": "code",
   "execution_count": 50,
   "id": "bbfab0f5",
   "metadata": {},
   "outputs": [
    {
     "name": "stdout",
     "output_type": "stream",
     "text": [
      "500\n"
     ]
    }
   ],
   "source": [
    "print(len(np1000_najboljse))"
   ]
  },
  {
   "cell_type": "code",
   "execution_count": 51,
   "id": "48af66ed",
   "metadata": {},
   "outputs": [],
   "source": [
    "np1000_CLP = []\n",
    "casi_np1000_CLP = []\n",
    "for i in A:\n",
    "    X = Graph()\n",
    "    from_dict_of_lists(X, i)\n",
    "    time1 = time()\n",
    "    rez = CLP(X)\n",
    "    time2 = time()\n",
    "    np1000_CLP.append(len(rez))\n",
    "    casi_np1000_CLP.append(time2 - time1)"
   ]
  },
  {
   "cell_type": "code",
   "execution_count": 52,
   "id": "4859ac8d",
   "metadata": {},
   "outputs": [],
   "source": [
    "np1000_lokalno = []\n",
    "casi_np1000_lokalno = []\n",
    "for i in range(len(A)):\n",
    "    time1 = time()\n",
    "    rez = lokalno_iskanje(nx.Graph(A[i]), resitve[i])\n",
    "    time2 = time()\n",
    "    np1000_lokalno.append(len(rez))\n",
    "    casi_np1000_lokalno.append(time2 - time1)\n",
    "\n",
    "\n",
    "np1000_lokalno_najboljsi = []\n",
    "casi_np1000_lokalno_najboljsi = []\n",
    "for i in range(len(A)):\n",
    "    time1 = time()\n",
    "    rez = lokalno_iskanje(nx.Graph(A[i]), najboljse[i])\n",
    "    time2 = time()\n",
    "    np1000_lokalno_najboljsi.append(len(rez))\n",
    "    casi_np1000_lokalno_najboljsi.append(time2 - time1)\n",
    "\n",
    "np1000_lokalno_nakljucni = []\n",
    "casi_np1000_lokalno_nakljucni = []\n",
    "for i in A:\n",
    "    nakljucne = []\n",
    "    moci_mnozic = []\n",
    "\n",
    "    time1 = time()\n",
    "    for x in range(10):\n",
    "        nak = nakljucni_MIS(nx.Graph(i), list(np.random.permutation(len(nx.Graph(i).nodes))))\n",
    "        nakljucne.append(nak)\n",
    "    for i in range(len(nakljucne)):\n",
    "        rez = lokalno_iskanje(nx.Graph(A[i]), nakljucne[i])\n",
    "        moci_mnozic.append(len(rez))\n",
    "    time2 = time()\n",
    "\n",
    "    np1000_lokalno_nakljucni.append(max(moci_mnozic))\n",
    "    casi_np1000_lokalno_nakljucni.append(time2-time1)\n",
    "    "
   ]
  },
  {
   "cell_type": "code",
   "execution_count": 53,
   "id": "10e9d5ed",
   "metadata": {},
   "outputs": [
    {
     "name": "stdout",
     "output_type": "stream",
     "text": [
      "500\n",
      "500\n",
      "500\n",
      "500\n",
      "500\n",
      "500\n"
     ]
    }
   ],
   "source": [
    "print(len(np1000_nakljucno))\n",
    "print(len(casi_np1000_nakljucno))\n",
    "print(len(np1000_CLP))\n",
    "print(len(casi_np1000_CLP))\n",
    "print(len(np1000_lokalno))\n",
    "print(len(casi_np1000_lokalno))"
   ]
  },
  {
   "cell_type": "code",
   "execution_count": 54,
   "id": "45c1ba95",
   "metadata": {},
   "outputs": [],
   "source": [
    "data_np1000 = {\"Nakljucno\":np1000_nakljucno, \"Casi nakljucno\": casi_np1000_nakljucno,\n",
    "           \"CLP\": np1000_CLP, \"Casi CLP\": casi_np1000_CLP ,\n",
    "            \"Lokalno iskanje\": np1000_lokalno, \"Casi lokalno\": casi_np1000_lokalno}\n",
    "data_np1000 = pd.DataFrame(data_np1000)\n",
    "\n",
    "data_np1000_maxi = {\n",
    "    \"Najboljsi nakljucno\":np1000_najboljse, \"Casi najboljsi nakljucno\":casi_np1000_najboljsih,\n",
    "    \"CLP\": np1000_CLP, \"Casi CLP\": casi_np1000_CLP ,\n",
    "    \"Najboljsi lokalno iskanje\":np1000_lokalno_najboljsi, \"Casi najboljsi lokalno iskanje\":casi_np1000_lokalno_najboljsi, \n",
    "    \"Nakljucni lokalno iskanje\":np1000_lokalno_nakljucni, \"Casi nakljucni lokalno iskanje\":casi_np1000_lokalno_nakljucni, \n",
    "}"
   ]
  },
  {
   "cell_type": "code",
   "execution_count": 55,
   "id": "a2fc5c12",
   "metadata": {},
   "outputs": [],
   "source": [
    "\n",
    "X = []\n",
    "for i in range(len(np1000_lokalno)):\n",
    "    X.append(np1000_CLP[i] - np1000_lokalno[i])\n",
    "\n",
    "slovar_pojavitev = {}\n",
    "for i in range(max(X)):\n",
    "    slovar_pojavitev[i]=X.count(i)\n",
    "kljuc = slovar_pojavitev.keys()\n",
    "vrednost=slovar_pojavitev.values()"
   ]
  },
  {
   "cell_type": "code",
   "execution_count": 56,
   "id": "a8da1a09",
   "metadata": {},
   "outputs": [],
   "source": [
    "data_np1000_razlike = {\n",
    "    \"razlika\":list(kljuc),\n",
    "    \"pojavitev\":list(vrednost)\n",
    "    }\n",
    "\n",
    "data_np1000_razlike = pd.DataFrame(data_np1000_razlike)\n"
   ]
  },
  {
   "cell_type": "markdown",
   "id": "f56e7637",
   "metadata": {},
   "source": [
    "# Različna vozlišča, ista verjetnost"
   ]
  },
  {
   "cell_type": "code",
   "execution_count": 57,
   "id": "44f8789e",
   "metadata": {},
   "outputs": [],
   "source": [
    "N = list(range(1, 601, 8))\n",
    "B = erdos_renyi_N(N, 0.05)"
   ]
  },
  {
   "cell_type": "code",
   "execution_count": 58,
   "id": "56ba2858",
   "metadata": {},
   "outputs": [],
   "source": [
    "Np_nakljucno = []\n",
    "casi_Np_nakljucno = []\n",
    "resitve = []\n",
    "for i in B:\n",
    "    time1 = time()\n",
    "    nak = nakljucni_MIS(nx.Graph(i), list(np.random.permutation(len(nx.Graph(i).nodes))))\n",
    "    time2 = time()\n",
    "    Np_nakljucno.append(len(nak))\n",
    "    casi_Np_nakljucno.append(time2 - time1)\n",
    "    resitve.append(nak)"
   ]
  },
  {
   "cell_type": "code",
   "execution_count": 59,
   "id": "c3d5229d",
   "metadata": {},
   "outputs": [],
   "source": [
    "Np_CLP = []\n",
    "casi_Np_CLP = []\n",
    "for i in B:\n",
    "    X = Graph()\n",
    "    from_dict_of_lists(X, i)\n",
    "    time1 = time()\n",
    "    rez = CLP(X)\n",
    "    time2 = time()\n",
    "    Np_CLP.append(len(rez))\n",
    "    casi_Np_CLP.append(time2 - time1)"
   ]
  },
  {
   "cell_type": "code",
   "execution_count": null,
   "id": "b65b66cf",
   "metadata": {},
   "outputs": [],
   "source": [
    "Np_lokalno = []\n",
    "casi_Np_lokalno = []\n",
    "for i in range(len(B)):\n",
    "    time1 = time()\n",
    "    rez = lokalno_iskanje(nx.Graph(B[i]), resitve[i])\n",
    "    time2 = time()\n",
    "    Np_lokalno.append(len(rez))\n",
    "    casi_Np_lokalno.append(time2 - time1)"
   ]
  },
  {
   "cell_type": "code",
   "execution_count": null,
   "id": "da2e4e0e",
   "metadata": {},
   "outputs": [],
   "source": [
    "data_Np = {\"Stevilo vozlisc\":N ,\"Nakljucno\":Np_nakljucno, \"Casi nakljucno\": casi_Np_nakljucno,\n",
    "           \"CLP\": Np_CLP, \"Casi CLP\": casi_Np_CLP ,\n",
    "            \"Lokalno iskanje\": Np_lokalno, \"Casi lokalno\": casi_Np_lokalno}\n",
    "data_Np = pd.DataFrame(data_Np)"
   ]
  },
  {
   "cell_type": "markdown",
   "id": "13e7bd2d",
   "metadata": {},
   "source": [
    "# Ista vozlišča, različna verjetnost"
   ]
  },
  {
   "cell_type": "code",
   "execution_count": null,
   "id": "2e708371",
   "metadata": {},
   "outputs": [],
   "source": [
    "P = list(np.linspace(0.1, 0.8, 80))\n",
    "C = erdos_renyi_P(25, P)"
   ]
  },
  {
   "cell_type": "code",
   "execution_count": null,
   "id": "5091a7f1",
   "metadata": {},
   "outputs": [],
   "source": [
    "nP_nakljucno = []\n",
    "casi_nP_nakljucno = []\n",
    "resitve = []\n",
    "for i in C:\n",
    "    time1 = time()\n",
    "    nak = nakljucni_MIS(nx.Graph(i), list(np.random.permutation(len(nx.Graph(i).nodes))))\n",
    "    time2 = time()\n",
    "    nP_nakljucno.append(len(nak))\n",
    "    casi_nP_nakljucno.append(time2 - time1)\n",
    "    resitve.append(nak)"
   ]
  },
  {
   "cell_type": "code",
   "execution_count": null,
   "id": "01526164",
   "metadata": {},
   "outputs": [],
   "source": [
    "nP_CLP = []\n",
    "casi_nP_CLP = []\n",
    "for i in C:\n",
    "    X = Graph()\n",
    "    from_dict_of_lists(X, i)\n",
    "    time1 = time()\n",
    "    rez = CLP(X)\n",
    "    time2 = time()\n",
    "    nP_CLP.append(len(rez))\n",
    "    casi_nP_CLP.append(time2 - time1)"
   ]
  },
  {
   "cell_type": "code",
   "execution_count": null,
   "id": "f64bdd79",
   "metadata": {},
   "outputs": [],
   "source": [
    "nP_lokalno = []\n",
    "casi_nP_lokalno = []\n",
    "for i in range(len(C)):\n",
    "    time1 = time()\n",
    "    rez = lokalno_iskanje(nx.Graph(C[i]), resitve[i])\n",
    "    time2 = time()\n",
    "    nP_lokalno.append(len(rez))\n",
    "    casi_nP_lokalno.append(time2 - time1)"
   ]
  },
  {
   "cell_type": "code",
   "execution_count": null,
   "id": "653907e6",
   "metadata": {},
   "outputs": [],
   "source": [
    "data_nP = {\"Verjetnost\":P,\"Nakljucno\":nP_nakljucno, \"Casi nakljucno\": casi_nP_nakljucno,\n",
    "           \"CLP\": nP_CLP, \"Casi CLP\": casi_nP_CLP ,\n",
    "            \"Lokalno iskanje\": nP_lokalno, \"Casi lokalno\": casi_nP_lokalno}\n",
    "data_nP = pd.DataFrame(data_nP)\n",
    "\n",
    "\n"
   ]
  },
  {
   "cell_type": "code",
   "execution_count": null,
   "id": "1dd086e8",
   "metadata": {},
   "outputs": [],
   "source": [
    "zapisi_v_json(\"JSON_datoteke/grafi_ver\",C)\n",
    "data_nP.to_csv('R_koda/grafi_ver.csv')"
   ]
  },
  {
   "cell_type": "code",
   "execution_count": null,
   "id": "a161d8fe",
   "metadata": {},
   "outputs": [],
   "source": [
    "zapisi_v_json(\"JSON_datoteke/grafi1000\", A)\n",
    "data_np1000.to_csv('R_koda/grafi1000.csv')"
   ]
  },
  {
   "cell_type": "code",
   "execution_count": null,
   "id": "07ea97fa",
   "metadata": {},
   "outputs": [],
   "source": [
    "zapisi_v_json(\"JSON_datoteke/grafi_voz\",B)\n",
    "data_Np.to_csv('R_koda/grafi_voz.csv')"
   ]
  },
  {
   "cell_type": "code",
   "execution_count": null,
   "id": "5def3fd1",
   "metadata": {},
   "outputs": [],
   "source": [
    "data_np1000_razlike.to_csv('R_koda/graf_razlik.csv')"
   ]
  },
  {
   "cell_type": "code",
   "execution_count": null,
   "id": "34dff8af",
   "metadata": {},
   "outputs": [],
   "source": [
    "data_np1000_maxi.to_csv('R_koda/grafi1000_maxi.csv')"
   ]
  }
 ],
 "metadata": {
  "kernelspec": {
   "display_name": "SageMath 9.4",
   "language": "sage",
   "name": "python399jvsc74a57bd00bb33ca9676efce3ca0e4e499ca98afa8af74a1912873c00ab519ed1bd3c864e"
  },
  "language_info": {
   "codemirror_mode": {
    "name": "ipython",
    "version": 3
   },
   "file_extension": ".py",
   "mimetype": "text/x-python",
   "name": "python",
   "nbconvert_exporter": "python",
   "pygments_lexer": "ipython3",
   "version": "3.9.9"
  }
 },
 "nbformat": 4,
 "nbformat_minor": 5
}
