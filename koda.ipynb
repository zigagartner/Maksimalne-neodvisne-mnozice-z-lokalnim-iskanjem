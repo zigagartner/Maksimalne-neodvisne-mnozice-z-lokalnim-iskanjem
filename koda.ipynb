{
 "cells": [
  {
   "cell_type": "code",
   "execution_count": 1,
   "id": "cbabea37",
   "metadata": {},
   "outputs": [],
   "source": [
    "import networkx as nx \n",
    "import numpy as np\n",
    "import json\n",
    "import pandas as pd\n",
    "from sage.graphs.graph_input import from_dict_of_lists\n",
    "from time import time"
   ]
  },
  {
   "cell_type": "code",
   "execution_count": 2,
   "id": "bf3e1e81",
   "metadata": {},
   "outputs": [],
   "source": [
    "def nakljucni_MIS(G, P):\n",
    "    I = []            #Nastajajoca neodvisna mnozica\n",
    "    V = list(G.nodes)\n",
    "    for i in V:        # V tej mnozici izberemo vozlisca, ki jih dodamo neodvisni mnozici. P je permutacija naravnih stevil do vkljucno len(V). Vozlisce dodamo I, ce ima najmanjso vrednost med sosedi.,tako tudi preprecimo ponavljanje vozlisc v mnozici.\n",
    "        A = []      \n",
    "        A.append(P[i])\n",
    "        if list(G.neighbors(i)) != []:\n",
    "            for j in list(G.neighbors(i)):\n",
    "                A.append(P[j])\n",
    "        if P[i] == min(A):\n",
    "            I.append(i)\n",
    "    N = [] \n",
    "    for i in I:\n",
    "        N += G.neighbors(i)\n",
    "    V1 = I + N\n",
    "    V1 = list(dict.fromkeys(V1)) # V1 je mnozica, ki jo bomo odstranili iz grafa in je sestavljena iz vozlisc iz I, ter njihovih sosedov\n",
    "    if I == []:\n",
    "        return []\n",
    "    else:\n",
    "        G1 = G.copy()\n",
    "        G1.remove_nodes_from(V1)\n",
    "        return list(I + nakljucni_MIS(G1, P))"
   ]
  },
  {
   "cell_type": "code",
   "execution_count": 3,
   "id": "df7379cd",
   "metadata": {},
   "outputs": [],
   "source": [
    "def tightness(graf, mnozica, v): #Dolocimo \"tightness\" vozlisca v, v mnozici X, tj. za vsakega soseda vozlisca v, v mnozici graf\\X, tightness(v) povecamo za 1\n",
    "    t = 0\n",
    "    for w in graf.neighbors(v):\n",
    "        if w in mnozica:\n",
    "            t += 1\n",
    "        else:\n",
    "            pass\n",
    "    return t\n",
    "\n",
    "def lokalno_iskanje(G, I): #Parametra graf v networkx formatu, neodvisna množica I (gre za Python list)\n",
    "    V = list(G.nodes)\n",
    "    for v in I:\n",
    "        L = [] #Gradimo mnozice potencialnih kandidatov za dodajanje v neodvisno mnozico\n",
    "        for w in G.neighbors(v):\n",
    "            if G.neighbors(v) != []:\n",
    "                if tightness(G, I, w) == 1:\n",
    "                    L.append(w)\n",
    "                else:\n",
    "                    pass\n",
    "            else:\n",
    "                pass\n",
    "        if len(L) >= 2:\n",
    "            for v1 in L:\n",
    "                for w1 in L:\n",
    "                    if w1 not in G.neighbors(v1):\n",
    "                        I.remove(v)\n",
    "                        I_lokalno = I + [v1, w1]\n",
    "                        return lokalno_iskanje(G, I_lokalno)\n",
    "                    else:\n",
    "                        pass\n",
    "            else:\n",
    "                return I\n",
    "        else:\n",
    "            return I "
   ]
  },
  {
   "cell_type": "code",
   "execution_count": 4,
   "id": "c2d8f34c",
   "metadata": {},
   "outputs": [],
   "source": [
    "def CLP(G):\n",
    "    p = MixedIntegerLinearProgram(maximization=True)\n",
    "    x = p.new_variable(binary=True)\n",
    "    p.set_objective(sum(x[v] for v in G))\n",
    "\n",
    "    for u, v in G.edges(labels=False):\n",
    "        p.add_constraint(x[u] + x[v] <= 1)\n",
    "    \n",
    "    p.solve()\n",
    "    x = p.get_values(x)\n",
    "    return [v for v, i in x.items() if i]"
   ]
  },
  {
   "cell_type": "code",
   "execution_count": 5,
   "id": "97819635",
   "metadata": {},
   "outputs": [],
   "source": [
    "def zapisi_v_json(datoteka,A):\n",
    "    with open(datoteka +'.json','w') as js:\n",
    "        js.write(\n",
    "            '[' +\n",
    "            ',\\n'.join(json.dumps(i) for i in A) +\n",
    "            ']\\n')\n",
    "\n",
    "# Dano verjetnost in n\n",
    "def erdos_renyi(n,p,m):\n",
    "    A = []\n",
    "    for i in range(m):\n",
    "        G = nx.erdos_renyi_graph(n,p)\n",
    "        G_slovar = nx.to_dict_of_lists(G)\n",
    "        A += [G_slovar]\n",
    "\n",
    "    return A\n",
    "\n",
    "\n",
    "# Razlicne n\n",
    "\n",
    "def erdos_renyi_N(N, p):\n",
    "    A = []\n",
    "    for i in N:\n",
    "        G = nx.erdos_renyi_graph(i,p)\n",
    "        G_slovar = nx.to_dict_of_lists(G)\n",
    "        A += [G_slovar]\n",
    "\n",
    "    return A\n",
    "\n",
    "\n",
    "#Razlicne p\n",
    "\n",
    "def erdos_renyi_P(n, P):\n",
    "    A = []\n",
    "    for i in P:\n",
    "        G = nx.erdos_renyi_graph(n,i)\n",
    "        G_slovar = nx.to_dict_of_lists(G)\n",
    "        A += [G_slovar]\n",
    "    return A\n"
   ]
  },
  {
   "cell_type": "markdown",
   "id": "dba559c5",
   "metadata": {},
   "source": [
    "# Ista vozlišča in verjetnost, večkrat\n"
   ]
  },
  {
   "cell_type": "code",
   "execution_count": 6,
   "id": "6b561d96",
   "metadata": {},
   "outputs": [],
   "source": [
    "A = erdos_renyi(50, 0.3, 100)"
   ]
  },
  {
   "cell_type": "code",
   "execution_count": 7,
   "id": "0ae9ed92",
   "metadata": {},
   "outputs": [],
   "source": [
    "np1000_nakljucno = []\n",
    "casi_np1000_nakljucno = []\n",
    "resitve = []\n",
    "for i in A:\n",
    "    time1 = time()\n",
    "    nak = nakljucni_MIS(nx.Graph(i), list(np.random.permutation(len(nx.Graph(i).nodes))))\n",
    "    time2 = time()\n",
    "    np1000_nakljucno.append(len(nak))\n",
    "    casi_np1000_nakljucno.append(time2 - time1)\n",
    "    resitve.append(nak)"
   ]
  },
  {
   "cell_type": "code",
   "execution_count": 8,
   "id": "d298d144",
   "metadata": {},
   "outputs": [],
   "source": [
    "np1000_CLP = []\n",
    "casi_np1000_CLP = []\n",
    "for i in A:\n",
    "    X = Graph()\n",
    "    from_dict_of_lists(X, i)\n",
    "    time1 = time()\n",
    "    rez = CLP(X)\n",
    "    time2 = time()\n",
    "    np1000_CLP.append(len(rez))\n",
    "    casi_np1000_CLP.append(time2 - time1)"
   ]
  },
  {
   "cell_type": "code",
   "execution_count": 9,
   "id": "93a883d4",
   "metadata": {},
   "outputs": [],
   "source": [
    "np1000_lokalno = []\n",
    "casi_np1000_lokalno = []\n",
    "for i in range(len(A)):\n",
    "    time1 = time()\n",
    "    rez = lokalno_iskanje(nx.Graph(A[i]), resitve[i])\n",
    "    time2 = time()\n",
    "    np1000_lokalno.append(len(rez))\n",
    "    casi_np1000_lokalno.append(time2 - time1)"
   ]
  },
  {
   "cell_type": "code",
   "execution_count": 10,
   "id": "c40b0bef",
   "metadata": {},
   "outputs": [],
   "source": [
    "data_np1000 = {\"Nakljucno\":np1000_nakljucno, \"Casi nakljucno\": casi_np1000_nakljucno,\n",
    "           \"CLP\": np1000_CLP, \"Casi CLP\": casi_np1000_CLP ,\n",
    "            \"Lokalno iskanje\": np1000_lokalno, \"Casi lokalno\": casi_np1000_lokalno}\n",
    "data_np1000 = pd.DataFrame(data_np1000)\n",
    "\n"
   ]
  },
  {
   "cell_type": "markdown",
   "id": "e97f1bff",
   "metadata": {},
   "source": [
    "# Različna vozlišča, ista verjetnost"
   ]
  },
  {
   "cell_type": "code",
   "execution_count": 11,
   "id": "62e52ed8",
   "metadata": {},
   "outputs": [],
   "source": [
    "N = list(range(1, 601, 10))\n",
    "B = erdos_renyi_N(N, 0.005)"
   ]
  },
  {
   "cell_type": "code",
   "execution_count": 12,
   "id": "443c5869",
   "metadata": {},
   "outputs": [],
   "source": [
    "Np_nakljucno = []\n",
    "casi_Np_nakljucno = []\n",
    "resitve = []\n",
    "for i in B:\n",
    "    time1 = time()\n",
    "    nak = nakljucni_MIS(nx.Graph(i), list(np.random.permutation(len(nx.Graph(i).nodes))))\n",
    "    time2 = time()\n",
    "    Np_nakljucno.append(len(nak))\n",
    "    casi_Np_nakljucno.append(time2 - time1)\n",
    "    resitve.append(nak)"
   ]
  },
  {
   "cell_type": "code",
   "execution_count": 13,
   "id": "987b5e5c",
   "metadata": {},
   "outputs": [],
   "source": [
    "Np_CLP = []\n",
    "casi_Np_CLP = []\n",
    "for i in B:\n",
    "    X = Graph()\n",
    "    from_dict_of_lists(X, i)\n",
    "    time1 = time()\n",
    "    rez = CLP(X)\n",
    "    time2 = time()\n",
    "    Np_CLP.append(len(rez))\n",
    "    casi_Np_CLP.append(time2 - time1)"
   ]
  },
  {
   "cell_type": "code",
   "execution_count": 14,
   "id": "1127f267",
   "metadata": {},
   "outputs": [],
   "source": [
    "Np_lokalno = []\n",
    "casi_Np_lokalno = []\n",
    "for i in range(len(B)):\n",
    "    time1 = time()\n",
    "    rez = lokalno_iskanje(nx.Graph(B[i]), resitve[i])\n",
    "    time2 = time()\n",
    "    Np_lokalno.append(len(rez))\n",
    "    casi_Np_lokalno.append(time2 - time1)"
   ]
  },
  {
   "cell_type": "code",
   "execution_count": 15,
   "id": "7fd01591",
   "metadata": {},
   "outputs": [],
   "source": [
    "data_Np = {\"Stevilo vozlisc\":N ,\"Nakljucno\":Np_nakljucno, \"Casi nakljucno\": casi_Np_nakljucno,\n",
    "           \"CLP\": Np_CLP, \"Casi CLP\": casi_Np_CLP ,\n",
    "            \"Lokalno iskanje\": Np_lokalno, \"Casi lokalno\": casi_Np_lokalno}\n",
    "data_Np = pd.DataFrame(data_Np)"
   ]
  },
  {
   "cell_type": "markdown",
   "id": "f868ce97",
   "metadata": {},
   "source": [
    "# Ista vozlišča, različna verjetnost"
   ]
  },
  {
   "cell_type": "code",
   "execution_count": 16,
   "id": "7c8fa194",
   "metadata": {},
   "outputs": [],
   "source": [
    "P = list(np.linspace(0.1, 0.8, 50))\n",
    "C = erdos_renyi_P(25, P)"
   ]
  },
  {
   "cell_type": "code",
   "execution_count": 17,
   "id": "f444dd11",
   "metadata": {},
   "outputs": [],
   "source": [
    "nP_nakljucno = []\n",
    "casi_nP_nakljucno = []\n",
    "resitve = []\n",
    "for i in C:\n",
    "    time1 = time()\n",
    "    nak = nakljucni_MIS(nx.Graph(i), list(np.random.permutation(len(nx.Graph(i).nodes))))\n",
    "    time2 = time()\n",
    "    nP_nakljucno.append(len(nak))\n",
    "    casi_nP_nakljucno.append(time2 - time1)\n",
    "    resitve.append(nak)"
   ]
  },
  {
   "cell_type": "code",
   "execution_count": 18,
   "id": "c0cd850c",
   "metadata": {},
   "outputs": [],
   "source": [
    "nP_CLP = []\n",
    "casi_nP_CLP = []\n",
    "for i in C:\n",
    "    X = Graph()\n",
    "    from_dict_of_lists(X, i)\n",
    "    time1 = time()\n",
    "    rez = CLP(X)\n",
    "    time2 = time()\n",
    "    nP_CLP.append(len(rez))\n",
    "    casi_nP_CLP.append(time2 - time1)"
   ]
  },
  {
   "cell_type": "code",
   "execution_count": 19,
   "id": "689ba571",
   "metadata": {},
   "outputs": [
    {
     "ename": "RecursionError",
     "evalue": "maximum recursion depth exceeded",
     "output_type": "error",
     "traceback": [
      "\u001b[0;31m---------------------------------------------------------------------------\u001b[0m",
      "\u001b[0;31mRecursionError\u001b[0m                            Traceback (most recent call last)",
      "\u001b[0;32m<ipython-input-19-81e32e38b840>\u001b[0m in \u001b[0;36m<module>\u001b[0;34m\u001b[0m\n\u001b[1;32m      3\u001b[0m \u001b[0;32mfor\u001b[0m \u001b[0mi\u001b[0m \u001b[0;32min\u001b[0m \u001b[0mrange\u001b[0m\u001b[0;34m(\u001b[0m\u001b[0mlen\u001b[0m\u001b[0;34m(\u001b[0m\u001b[0mC\u001b[0m\u001b[0;34m)\u001b[0m\u001b[0;34m)\u001b[0m\u001b[0;34m:\u001b[0m\u001b[0;34m\u001b[0m\u001b[0;34m\u001b[0m\u001b[0m\n\u001b[1;32m      4\u001b[0m     \u001b[0mtime1\u001b[0m \u001b[0;34m=\u001b[0m \u001b[0mtime\u001b[0m\u001b[0;34m(\u001b[0m\u001b[0;34m)\u001b[0m\u001b[0;34m\u001b[0m\u001b[0;34m\u001b[0m\u001b[0m\n\u001b[0;32m----> 5\u001b[0;31m     \u001b[0mrez\u001b[0m \u001b[0;34m=\u001b[0m \u001b[0mlokalno_iskanje\u001b[0m\u001b[0;34m(\u001b[0m\u001b[0mnx\u001b[0m\u001b[0;34m.\u001b[0m\u001b[0mGraph\u001b[0m\u001b[0;34m(\u001b[0m\u001b[0mC\u001b[0m\u001b[0;34m[\u001b[0m\u001b[0mi\u001b[0m\u001b[0;34m]\u001b[0m\u001b[0;34m)\u001b[0m\u001b[0;34m,\u001b[0m \u001b[0mresitve\u001b[0m\u001b[0;34m[\u001b[0m\u001b[0mi\u001b[0m\u001b[0;34m]\u001b[0m\u001b[0;34m)\u001b[0m\u001b[0;34m\u001b[0m\u001b[0;34m\u001b[0m\u001b[0m\n\u001b[0m\u001b[1;32m      6\u001b[0m     \u001b[0mtime2\u001b[0m \u001b[0;34m=\u001b[0m \u001b[0mtime\u001b[0m\u001b[0;34m(\u001b[0m\u001b[0;34m)\u001b[0m\u001b[0;34m\u001b[0m\u001b[0;34m\u001b[0m\u001b[0m\n\u001b[1;32m      7\u001b[0m     \u001b[0mnP_lokalno\u001b[0m\u001b[0;34m.\u001b[0m\u001b[0mappend\u001b[0m\u001b[0;34m(\u001b[0m\u001b[0mlen\u001b[0m\u001b[0;34m(\u001b[0m\u001b[0mrez\u001b[0m\u001b[0;34m)\u001b[0m\u001b[0;34m)\u001b[0m\u001b[0;34m\u001b[0m\u001b[0;34m\u001b[0m\u001b[0m\n",
      "\u001b[0;32m<ipython-input-3-0e1456f4253a>\u001b[0m in \u001b[0;36mlokalno_iskanje\u001b[0;34m(G, I)\u001b[0m\n\u001b[1;32m     26\u001b[0m                         \u001b[0mI\u001b[0m\u001b[0;34m.\u001b[0m\u001b[0mremove\u001b[0m\u001b[0;34m(\u001b[0m\u001b[0mv\u001b[0m\u001b[0;34m)\u001b[0m\u001b[0;34m\u001b[0m\u001b[0;34m\u001b[0m\u001b[0m\n\u001b[1;32m     27\u001b[0m                         \u001b[0mI_lokalno\u001b[0m \u001b[0;34m=\u001b[0m \u001b[0mI\u001b[0m \u001b[0;34m+\u001b[0m \u001b[0;34m[\u001b[0m\u001b[0mv1\u001b[0m\u001b[0;34m,\u001b[0m \u001b[0mw1\u001b[0m\u001b[0;34m]\u001b[0m\u001b[0;34m\u001b[0m\u001b[0;34m\u001b[0m\u001b[0m\n\u001b[0;32m---> 28\u001b[0;31m                         \u001b[0;32mreturn\u001b[0m \u001b[0mlokalno_iskanje\u001b[0m\u001b[0;34m(\u001b[0m\u001b[0mG\u001b[0m\u001b[0;34m,\u001b[0m \u001b[0mI_lokalno\u001b[0m\u001b[0;34m)\u001b[0m\u001b[0;34m\u001b[0m\u001b[0;34m\u001b[0m\u001b[0m\n\u001b[0m\u001b[1;32m     29\u001b[0m         \u001b[0;32melse\u001b[0m\u001b[0;34m:\u001b[0m\u001b[0;34m\u001b[0m\u001b[0;34m\u001b[0m\u001b[0m\n\u001b[1;32m     30\u001b[0m             \u001b[0;32mreturn\u001b[0m \u001b[0mI\u001b[0m\u001b[0;34m\u001b[0m\u001b[0;34m\u001b[0m\u001b[0m\n",
      "... last 1 frames repeated, from the frame below ...\n",
      "\u001b[0;32m<ipython-input-3-0e1456f4253a>\u001b[0m in \u001b[0;36mlokalno_iskanje\u001b[0;34m(G, I)\u001b[0m\n\u001b[1;32m     26\u001b[0m                         \u001b[0mI\u001b[0m\u001b[0;34m.\u001b[0m\u001b[0mremove\u001b[0m\u001b[0;34m(\u001b[0m\u001b[0mv\u001b[0m\u001b[0;34m)\u001b[0m\u001b[0;34m\u001b[0m\u001b[0;34m\u001b[0m\u001b[0m\n\u001b[1;32m     27\u001b[0m                         \u001b[0mI_lokalno\u001b[0m \u001b[0;34m=\u001b[0m \u001b[0mI\u001b[0m \u001b[0;34m+\u001b[0m \u001b[0;34m[\u001b[0m\u001b[0mv1\u001b[0m\u001b[0;34m,\u001b[0m \u001b[0mw1\u001b[0m\u001b[0;34m]\u001b[0m\u001b[0;34m\u001b[0m\u001b[0;34m\u001b[0m\u001b[0m\n\u001b[0;32m---> 28\u001b[0;31m                         \u001b[0;32mreturn\u001b[0m \u001b[0mlokalno_iskanje\u001b[0m\u001b[0;34m(\u001b[0m\u001b[0mG\u001b[0m\u001b[0;34m,\u001b[0m \u001b[0mI_lokalno\u001b[0m\u001b[0;34m)\u001b[0m\u001b[0;34m\u001b[0m\u001b[0;34m\u001b[0m\u001b[0m\n\u001b[0m\u001b[1;32m     29\u001b[0m         \u001b[0;32melse\u001b[0m\u001b[0;34m:\u001b[0m\u001b[0;34m\u001b[0m\u001b[0;34m\u001b[0m\u001b[0m\n\u001b[1;32m     30\u001b[0m             \u001b[0;32mreturn\u001b[0m \u001b[0mI\u001b[0m\u001b[0;34m\u001b[0m\u001b[0;34m\u001b[0m\u001b[0m\n",
      "\u001b[0;31mRecursionError\u001b[0m: maximum recursion depth exceeded"
     ]
    }
   ],
   "source": [
    "nP_lokalno = []\n",
    "casi_nP_lokalno = []\n",
    "for i in range(len(C)):\n",
    "    time1 = time()\n",
    "    rez = lokalno_iskanje(nx.Graph(C[i]), resitve[i])\n",
    "    time2 = time()\n",
    "    nP_lokalno.append(len(rez))\n",
    "    casi_nP_lokalno.append(time2 - time1)"
   ]
  },
  {
   "cell_type": "code",
   "execution_count": 63,
   "id": "b2f8b508",
   "metadata": {},
   "outputs": [
    {
     "name": "stdout",
     "output_type": "stream",
     "text": [
      "    Nakljucno  Casi nakljucno  CLP  Casi CLP  Lokalno iskanje  Casi lokalno\n",
      "0          12        0.000521   14  0.001274               12      0.000157\n",
      "1           9        0.000568   12  0.002314                9      0.000149\n",
      "2          13        0.000567   14  0.001563               13      0.000129\n",
      "3           8        0.000686   11  0.003362                8      0.000169\n",
      "4          10        0.000613   11  0.002852               10      0.000160\n",
      "5          10        0.000587   11  0.003491               10      0.000171\n",
      "6           7        0.000688   10  0.003638                7      0.000187\n",
      "7           8        0.000691   11  0.003160                8      0.000205\n",
      "8           8        0.000740    9  0.004185                8      0.000215\n",
      "9          10        0.000606   11  0.002192               10      0.000170\n",
      "10          7        0.000797    8  0.005386                7      0.000238\n",
      "11          9        0.000822    9  0.004043                9      0.000210\n",
      "12          8        0.000831    8  0.005953                8      0.000222\n",
      "13          5        0.000891    7  0.006037                6      0.000301\n",
      "14          8        0.000776    9  0.005406                8      0.000249\n",
      "15          6        0.000797    8  0.004871                8      0.000263\n",
      "16          6        0.000760    9  0.004789                7      0.000268\n",
      "17          8        0.000822    8  0.006483                8      0.000266\n",
      "18          6        0.000793    7  0.005941                7      0.000288\n",
      "19          6        0.000790    8  0.007264                6      0.000465\n",
      "20          6        0.000844    8  0.005683                7      0.000330\n",
      "21          5        0.001233    7  0.006767                7      0.000395\n",
      "22          5        0.001412    6  0.007174                5      0.000338\n",
      "23          5        0.001097    8  0.006494                5      0.000327\n",
      "24          4        0.001378    6  0.007801                5      0.000413\n",
      "25          4        0.001031    5  0.010299                5      0.000387\n",
      "26          3        0.001074    6  0.009644                9      0.000548\n",
      "27          4        0.001124    6  0.007584                5      0.000393\n",
      "28          5        0.001190    5  0.009094                5      0.000373\n",
      "29          6        0.000954    7  0.006525                6      0.000341\n",
      "30          4        0.000993    5  0.009314                4      0.000386\n",
      "31          4        0.001027    6  0.007186                5      0.000382\n",
      "32          5        0.001073    5  0.009509                5      0.000407\n",
      "33          3        0.001037    5  0.009804                4      0.000419\n",
      "34          4        0.000998    5  0.008549                6      0.000481\n",
      "35          4        0.001357    5  0.009536                5      0.000640\n",
      "36          3        0.001219    5  0.008365                5      0.000498\n",
      "37          3        0.001332    4  0.010916                6      0.000626\n",
      "38          4        0.001310    5  0.009163                4      0.000627\n",
      "39          3        0.001184    4  0.009978                4      0.000532\n",
      "40          3        0.001311    4  0.011224                3      0.000537\n",
      "41          3        0.001415    4  0.010533                3      0.000662\n",
      "42          4        0.001523    4  0.010179                4      0.001065\n",
      "43          4        0.001765    4  0.010787                4      0.000955\n",
      "44          4        0.001359    4  0.010600                4      0.000707\n",
      "45          3        0.001307    4  0.011663                6      0.000659\n",
      "46          3        0.001230    4  0.011129                3      0.000505\n",
      "47          3        0.001540    5  0.009739                4      0.000562\n",
      "48          3        0.001340    3  0.013109                3      0.000604\n",
      "49          2        0.001321    3  0.012231                7      0.000788\n"
     ]
    }
   ],
   "source": [
    "data_nP = {\"Verjetnost\":P,\"Nakljucno\":nP_nakljucno, \"Casi nakljucno\": casi_nP_nakljucno,\n",
    "           \"CLP\": nP_CLP, \"Casi CLP\": casi_nP_CLP ,\n",
    "            \"Lokalno iskanje\": nP_lokalno, \"Casi lokalno\": casi_nP_lokalno}\n",
    "data_nP = pd.DataFrame(data_nP)\n",
    "print(data_nP)\n",
    "\n"
   ]
  },
  {
   "cell_type": "code",
   "execution_count": 64,
   "id": "5bd9a18a",
   "metadata": {},
   "outputs": [],
   "source": [
    "zapisi_v_json(\"grafi_ver\",C)\n",
    "data_nP.to_csv('R_koda/grafi_ver.csv')"
   ]
  },
  {
   "cell_type": "code",
   "execution_count": 65,
   "id": "cf4b6e04",
   "metadata": {},
   "outputs": [],
   "source": [
    "zapisi_v_json(\"grafi1000\", A)\n",
    "data_np1000.to_csv('R_koda/grafi1000.csv')"
   ]
  },
  {
   "cell_type": "code",
   "execution_count": 66,
   "id": "fa593226",
   "metadata": {},
   "outputs": [],
   "source": [
    "zapisi_v_json(\"grafi_voz\",B)\n",
    "data_Np.to_csv('R_koda/grafi_voz.csv')"
   ]
  },
  {
   "cell_type": "code",
   "execution_count": null,
   "id": "96f6618b",
   "metadata": {},
   "outputs": [],
   "source": []
  }
 ],
 "metadata": {
  "kernelspec": {
   "display_name": "SageMath 9.4",
   "language": "sage",
   "name": "sagemath"
  },
  "language_info": {
   "codemirror_mode": {
    "name": "ipython",
    "version": 3
   },
   "file_extension": ".py",
   "mimetype": "text/x-python",
   "name": "python",
   "nbconvert_exporter": "python",
   "pygments_lexer": "ipython3",
   "version": "3.9.9"
  }
 },
 "nbformat": 4,
 "nbformat_minor": 5
}
