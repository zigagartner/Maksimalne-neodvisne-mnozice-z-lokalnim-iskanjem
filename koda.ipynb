{
 "cells": [
  {
   "cell_type": "code",
   "execution_count": 82,
   "id": "be59addc",
   "metadata": {},
   "outputs": [],
   "source": [
    "import networkx as nx \n",
    "import numpy as np\n",
    "import json\n",
    "import pandas as pd\n",
    "from sage.graphs.graph_input import from_dict_of_lists\n",
    "import time"
   ]
  },
  {
   "cell_type": "code",
   "execution_count": 2,
   "id": "e66dcb1a",
   "metadata": {},
   "outputs": [],
   "source": [
    "def nakljucni_MIS(G, P):\n",
    "    I = []            #Nastajajoca neodvisna mnozica\n",
    "    V = list(G.nodes)\n",
    "    for i in V:        # V tej mnozici izberemo vozlisca, ki jih dodamo neodvisni mnozici. P je permutacija naravnih stevil do vkljucno len(V). Vozlisce dodamo I, ce ima najmanjso vrednost med sosedi.,tako tudi preprecimo ponavljanje vozlisc v mnozici.\n",
    "        A = []      \n",
    "        A.append(P[i])\n",
    "        if list(G.neighbors(i)) != []:\n",
    "            for j in list(G.neighbors(i)):\n",
    "                A.append(P[j])\n",
    "        if P[i] == min(A):\n",
    "            I.append(i)\n",
    "    N = [] \n",
    "    for i in I:\n",
    "        N += G.neighbors(i)\n",
    "    V1 = I + N\n",
    "    V1 = list(dict.fromkeys(V1)) # V1 je mnozica, ki jo bomo odstranili iz grafa in je sestavljena iz vozlisc iz I, ter njihovih sosedov\n",
    "    if I == []:\n",
    "        return []\n",
    "    else:\n",
    "        G1 = G.copy()\n",
    "        G1.remove_nodes_from(V1)\n",
    "        return list(I + nakljucni_MIS(G1, P))"
   ]
  },
  {
   "cell_type": "code",
   "execution_count": 3,
   "id": "9e3b192f",
   "metadata": {},
   "outputs": [],
   "source": [
    "def tightness(graf, mnozica, v): #Dolocimo \"tightness\" vozlisca v, v mnozici X, tj. za vsakega soseda vozlisca v, v mnozici graf\\X, tightness(v) povecamo za 1\n",
    "    t = 0\n",
    "    for w in graf.neighbors(v):\n",
    "        if w in mnozica:\n",
    "            t += 1\n",
    "        else:\n",
    "            pass\n",
    "    return t\n",
    "\n",
    "def lokalno_iskanje(G, I): #Parametra graf v networkx formatu, neodvisna množica I (gre za Python list)\n",
    "    V = list(G.nodes)\n",
    "    for v in I:\n",
    "        L = [] #Gradimo mnozice potencialnih kandidatov za dodajanje v neodvisno mnozico\n",
    "        for w in G.neighbors(v):\n",
    "            if G.neighbors(v) != []:\n",
    "                if tightness(G, I, w) == 1:\n",
    "                    L.append(w)\n",
    "                else:\n",
    "                    pass\n",
    "            else:\n",
    "                pass\n",
    "        if len(L) >= 2:\n",
    "            for v1 in L:\n",
    "                for w1 in L:\n",
    "                    if w1 not in G.neighbors(v1):\n",
    "                        I.remove(v)\n",
    "                        I_lokalno = I + [v1, w1]\n",
    "                        return lokalno_iskanje(G, I_lokalno)\n",
    "        else:\n",
    "            return I "
   ]
  },
  {
   "cell_type": "code",
   "execution_count": 4,
   "id": "311bc955",
   "metadata": {},
   "outputs": [],
   "source": [
    "def CLP(G):\n",
    "    p = MixedIntegerLinearProgram(maximization=True)\n",
    "    x = p.new_variable(binary=True)\n",
    "    p.set_objective(sum(x[v] for v in G))\n",
    "\n",
    "    for u, v in G.edges(labels=False):\n",
    "        p.add_constraint(x[u] + x[v] <= 1)\n",
    "    \n",
    "    p.solve()\n",
    "    x = p.get_values(x)\n",
    "    return [v for v, i in x.items() if i]"
   ]
  },
  {
   "cell_type": "code",
   "execution_count": null,
   "id": "b3c2be7f",
   "metadata": {},
   "outputs": [],
   "source": [
    "#Ista vozlisca in verjetnost, veckrat"
   ]
  },
  {
   "cell_type": "code",
   "execution_count": 97,
   "id": "97d41ee2",
   "metadata": {},
   "outputs": [],
   "source": [
    "A = []\n",
    "for i in range(1000):\n",
    "    G = nx.erdos_renyi_graph(50, 0.3)\n",
    "    G_slovar = nx.to_dict_of_lists(G)\n",
    "    A += [G_slovar]"
   ]
  },
  {
   "cell_type": "code",
   "execution_count": 102,
   "id": "c936f019",
   "metadata": {},
   "outputs": [],
   "source": [
    "np1000_nakljucno = []\n",
    "casi_nakljucno = []\n",
    "resitve = []\n",
    "for i in A:\n",
    "    time1 = time()\n",
    "    nak = nakljucni_MIS(nx.Graph(i), list(np.random.permutation(len(nx.Graph(i).nodes))))\n",
    "    time2 = time()\n",
    "    np1000_nakljucno.append(len(nak))\n",
    "    casi_nakljucno.append(time2 - time1)\n",
    "    resitve.append(nak)"
   ]
  },
  {
   "cell_type": "code",
   "execution_count": 100,
   "id": "4cd629e9",
   "metadata": {},
   "outputs": [],
   "source": [
    "np1000_CLP = []\n",
    "casi_CLP = []\n",
    "for i in A:\n",
    "    X = Graph()\n",
    "    from_dict_of_lists(X, i)\n",
    "    time1 = time()\n",
    "    rez = CLP(X)\n",
    "    time2 = time()\n",
    "    np1000_CLP.append(len(rez))\n",
    "    casi_CLP.append(time2 - time1)"
   ]
  },
  {
   "cell_type": "code",
   "execution_count": 103,
   "id": "b23359f1",
   "metadata": {},
   "outputs": [],
   "source": [
    "np1000_lokalno = []\n",
    "casi_lokalno = []\n",
    "for i in range(len(A)):\n",
    "    time1 = time()\n",
    "    rez = lokalno_iskanje(nx.Graph(A[i]), resitve[i])\n",
    "    time2 = time()\n",
    "    np1000_lokalno.append(len(rez))\n",
    "    casi_lokalno.append(time2 - time1)"
   ]
  },
  {
   "cell_type": "code",
   "execution_count": 109,
   "id": "183f7d3f",
   "metadata": {},
   "outputs": [
    {
     "name": "stdout",
     "output_type": "stream",
     "text": [
      "     Nakljucno  Casi nakljucno  CLP  Casi CLP  Lokalno iskanje  Casi lokalno\n",
      "0            9        0.003369   11  0.156384                9      0.001147\n",
      "1            8        0.003180   11  0.134443                9      0.000873\n",
      "2            7        0.003683   11  0.128538                7      0.001180\n",
      "3            9        0.003485   11  0.128925                9      0.000886\n",
      "4            7        0.003106   10  0.192122                9      0.000958\n",
      "..         ...             ...  ...       ...              ...           ...\n",
      "995          9        0.002117   11  0.153980               10      0.001072\n",
      "996         10        0.002280   11  0.164795               10      0.000790\n",
      "997         10        0.002250   11  0.168162               10      0.000735\n",
      "998          9        0.002342   13  0.097588                9      0.000670\n",
      "999          9        0.002402   10  0.200561                9      0.000680\n",
      "\n",
      "[1000 rows x 6 columns]\n"
     ]
    }
   ],
   "source": [
    "data_np1000 = {\"Nakljucno\":np1000_nakljucno, \"Casi nakljucno\": casi_nakljucno,\n",
    "           \"CLP\": np1000_CLP, \"Casi CLP\": casi_CLP ,\n",
    "            \"Lokalno iskanje\": np1000_lokalno, \"Casi lokalno\": casi_lokalno}\n",
    "data_np1000 = pd.DataFrame(data_np)\n",
    "print(data_np1000)\n",
    "\n"
   ]
  },
  {
   "cell_type": "code",
   "execution_count": null,
   "id": "5958ef1d",
   "metadata": {
    "scrolled": true
   },
   "outputs": [],
   "source": []
  },
  {
   "cell_type": "code",
   "execution_count": 107,
   "id": "22374e00",
   "metadata": {},
   "outputs": [],
   "source": [
    "#Razlicna vozlisca, ista verjetnost\n",
    "\n"
   ]
  },
  {
   "cell_type": "code",
   "execution_count": 86,
   "id": "c0e1681a",
   "metadata": {},
   "outputs": [],
   "source": [
    "#Ista vozlisca, razlicna verjetnost\n",
    "\n"
   ]
  },
  {
   "cell_type": "code",
   "execution_count": null,
   "id": "ae1277ed",
   "metadata": {},
   "outputs": [],
   "source": []
  },
  {
   "cell_type": "code",
   "execution_count": null,
   "id": "da93a33f",
   "metadata": {},
   "outputs": [],
   "source": []
  }
 ],
 "metadata": {
  "kernelspec": {
   "display_name": "SageMath 9.4",
   "language": "sage",
   "name": "sagemath"
  },
  "language_info": {
   "codemirror_mode": {
    "name": "ipython",
    "version": 3
   },
   "file_extension": ".py",
   "mimetype": "text/x-python",
   "name": "python",
   "nbconvert_exporter": "python",
   "pygments_lexer": "ipython3",
   "version": "3.9.9"
  }
 },
 "nbformat": 4,
 "nbformat_minor": 5
}
